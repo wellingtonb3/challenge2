{
  "nbformat": 4,
  "nbformat_minor": 0,
  "metadata": {
    "colab": {
      "provenance": [],
      "collapsed_sections": [
        "twtuWgx4Yuch"
      ]
    },
    "kernelspec": {
      "name": "python3",
      "display_name": "Python 3"
    },
    "language_info": {
      "name": "python"
    }
  },
  "cells": [
    {
      "cell_type": "markdown",
      "source": [
        "# **TELECOM_X**\n",
        "###  **Análise de Evasão de Clientes**"
      ],
      "metadata": {
        "id": "gqiipGUha4yD"
      }
    },
    {
      "cell_type": "markdown",
      "source": [
        "**Objetivo:**   \n",
        "*Buscar, Tratar e Realizar uma análise exploratória dos dados da empresa, ou seja, todo o processo de ETL*"
      ],
      "metadata": {
        "id": "_tUYi5EHSTQq"
      }
    },
    {
      "cell_type": "markdown",
      "source": [
        "# ***Extraindo dados***"
      ],
      "metadata": {
        "id": "twtuWgx4Yuch"
      }
    },
    {
      "cell_type": "markdown",
      "source": [
        "***Importando o Banco de Dados***"
      ],
      "metadata": {
        "id": "rKlSzXjZT32G"
      }
    },
    {
      "cell_type": "code",
      "execution_count": 74,
      "metadata": {
        "id": "AcA0gmNBWzXu",
        "colab": {
          "base_uri": "https://localhost:8080/"
        },
        "outputId": "6f40802c-2cf9-443a-ec35-8d624d148223"
      },
      "outputs": [
        {
          "output_type": "stream",
          "name": "stdout",
          "text": [
            "   customerID Churn                                           customer  \\\n",
            "0  0002-ORFBO    No  {'gender': 'Female', 'SeniorCitizen': 0, 'Part...   \n",
            "1  0003-MKNFE    No  {'gender': 'Male', 'SeniorCitizen': 0, 'Partne...   \n",
            "2  0004-TLHLJ   Yes  {'gender': 'Male', 'SeniorCitizen': 0, 'Partne...   \n",
            "3  0011-IGKFF   Yes  {'gender': 'Male', 'SeniorCitizen': 1, 'Partne...   \n",
            "4  0013-EXCHZ   Yes  {'gender': 'Female', 'SeniorCitizen': 1, 'Part...   \n",
            "\n",
            "                                             phone  \\\n",
            "0   {'PhoneService': 'Yes', 'MultipleLines': 'No'}   \n",
            "1  {'PhoneService': 'Yes', 'MultipleLines': 'Yes'}   \n",
            "2   {'PhoneService': 'Yes', 'MultipleLines': 'No'}   \n",
            "3   {'PhoneService': 'Yes', 'MultipleLines': 'No'}   \n",
            "4   {'PhoneService': 'Yes', 'MultipleLines': 'No'}   \n",
            "\n",
            "                                            internet  \\\n",
            "0  {'InternetService': 'DSL', 'OnlineSecurity': '...   \n",
            "1  {'InternetService': 'DSL', 'OnlineSecurity': '...   \n",
            "2  {'InternetService': 'Fiber optic', 'OnlineSecu...   \n",
            "3  {'InternetService': 'Fiber optic', 'OnlineSecu...   \n",
            "4  {'InternetService': 'Fiber optic', 'OnlineSecu...   \n",
            "\n",
            "                                             account  \n",
            "0  {'Contract': 'One year', 'PaperlessBilling': '...  \n",
            "1  {'Contract': 'Month-to-month', 'PaperlessBilli...  \n",
            "2  {'Contract': 'Month-to-month', 'PaperlessBilli...  \n",
            "3  {'Contract': 'Month-to-month', 'PaperlessBilli...  \n",
            "4  {'Contract': 'Month-to-month', 'PaperlessBilli...  \n"
          ]
        }
      ],
      "source": [
        "import pandas as pd\n",
        "\n",
        "url = \"https://raw.githubusercontent.com/wellingtonb3/challenge2/main/TelecomX_Data.json\"\n",
        "\n",
        "df = pd.read_json(url)\n",
        "\n",
        "print(df.head())\n"
      ]
    },
    {
      "cell_type": "markdown",
      "source": [
        "***Verificando o Data Frame***"
      ],
      "metadata": {
        "id": "U6f2jvNyzaEN"
      }
    },
    {
      "cell_type": "code",
      "source": [
        "df.head()"
      ],
      "metadata": {
        "colab": {
          "base_uri": "https://localhost:8080/",
          "height": 0
        },
        "id": "S4NeRRfebB9J",
        "outputId": "c5c45ea1-b0ab-4f54-8df0-6ab97961fff5"
      },
      "execution_count": 75,
      "outputs": [
        {
          "output_type": "execute_result",
          "data": {
            "text/plain": [
              "   customerID Churn                                           customer  \\\n",
              "0  0002-ORFBO    No  {'gender': 'Female', 'SeniorCitizen': 0, 'Part...   \n",
              "1  0003-MKNFE    No  {'gender': 'Male', 'SeniorCitizen': 0, 'Partne...   \n",
              "2  0004-TLHLJ   Yes  {'gender': 'Male', 'SeniorCitizen': 0, 'Partne...   \n",
              "3  0011-IGKFF   Yes  {'gender': 'Male', 'SeniorCitizen': 1, 'Partne...   \n",
              "4  0013-EXCHZ   Yes  {'gender': 'Female', 'SeniorCitizen': 1, 'Part...   \n",
              "\n",
              "                                             phone  \\\n",
              "0   {'PhoneService': 'Yes', 'MultipleLines': 'No'}   \n",
              "1  {'PhoneService': 'Yes', 'MultipleLines': 'Yes'}   \n",
              "2   {'PhoneService': 'Yes', 'MultipleLines': 'No'}   \n",
              "3   {'PhoneService': 'Yes', 'MultipleLines': 'No'}   \n",
              "4   {'PhoneService': 'Yes', 'MultipleLines': 'No'}   \n",
              "\n",
              "                                            internet  \\\n",
              "0  {'InternetService': 'DSL', 'OnlineSecurity': '...   \n",
              "1  {'InternetService': 'DSL', 'OnlineSecurity': '...   \n",
              "2  {'InternetService': 'Fiber optic', 'OnlineSecu...   \n",
              "3  {'InternetService': 'Fiber optic', 'OnlineSecu...   \n",
              "4  {'InternetService': 'Fiber optic', 'OnlineSecu...   \n",
              "\n",
              "                                             account  \n",
              "0  {'Contract': 'One year', 'PaperlessBilling': '...  \n",
              "1  {'Contract': 'Month-to-month', 'PaperlessBilli...  \n",
              "2  {'Contract': 'Month-to-month', 'PaperlessBilli...  \n",
              "3  {'Contract': 'Month-to-month', 'PaperlessBilli...  \n",
              "4  {'Contract': 'Month-to-month', 'PaperlessBilli...  "
            ],
            "text/html": [
              "\n",
              "  <div id=\"df-f2c4ce00-20df-48e4-bb5c-6a8e3ee026d8\" class=\"colab-df-container\">\n",
              "    <div>\n",
              "<style scoped>\n",
              "    .dataframe tbody tr th:only-of-type {\n",
              "        vertical-align: middle;\n",
              "    }\n",
              "\n",
              "    .dataframe tbody tr th {\n",
              "        vertical-align: top;\n",
              "    }\n",
              "\n",
              "    .dataframe thead th {\n",
              "        text-align: right;\n",
              "    }\n",
              "</style>\n",
              "<table border=\"1\" class=\"dataframe\">\n",
              "  <thead>\n",
              "    <tr style=\"text-align: right;\">\n",
              "      <th></th>\n",
              "      <th>customerID</th>\n",
              "      <th>Churn</th>\n",
              "      <th>customer</th>\n",
              "      <th>phone</th>\n",
              "      <th>internet</th>\n",
              "      <th>account</th>\n",
              "    </tr>\n",
              "  </thead>\n",
              "  <tbody>\n",
              "    <tr>\n",
              "      <th>0</th>\n",
              "      <td>0002-ORFBO</td>\n",
              "      <td>No</td>\n",
              "      <td>{'gender': 'Female', 'SeniorCitizen': 0, 'Part...</td>\n",
              "      <td>{'PhoneService': 'Yes', 'MultipleLines': 'No'}</td>\n",
              "      <td>{'InternetService': 'DSL', 'OnlineSecurity': '...</td>\n",
              "      <td>{'Contract': 'One year', 'PaperlessBilling': '...</td>\n",
              "    </tr>\n",
              "    <tr>\n",
              "      <th>1</th>\n",
              "      <td>0003-MKNFE</td>\n",
              "      <td>No</td>\n",
              "      <td>{'gender': 'Male', 'SeniorCitizen': 0, 'Partne...</td>\n",
              "      <td>{'PhoneService': 'Yes', 'MultipleLines': 'Yes'}</td>\n",
              "      <td>{'InternetService': 'DSL', 'OnlineSecurity': '...</td>\n",
              "      <td>{'Contract': 'Month-to-month', 'PaperlessBilli...</td>\n",
              "    </tr>\n",
              "    <tr>\n",
              "      <th>2</th>\n",
              "      <td>0004-TLHLJ</td>\n",
              "      <td>Yes</td>\n",
              "      <td>{'gender': 'Male', 'SeniorCitizen': 0, 'Partne...</td>\n",
              "      <td>{'PhoneService': 'Yes', 'MultipleLines': 'No'}</td>\n",
              "      <td>{'InternetService': 'Fiber optic', 'OnlineSecu...</td>\n",
              "      <td>{'Contract': 'Month-to-month', 'PaperlessBilli...</td>\n",
              "    </tr>\n",
              "    <tr>\n",
              "      <th>3</th>\n",
              "      <td>0011-IGKFF</td>\n",
              "      <td>Yes</td>\n",
              "      <td>{'gender': 'Male', 'SeniorCitizen': 1, 'Partne...</td>\n",
              "      <td>{'PhoneService': 'Yes', 'MultipleLines': 'No'}</td>\n",
              "      <td>{'InternetService': 'Fiber optic', 'OnlineSecu...</td>\n",
              "      <td>{'Contract': 'Month-to-month', 'PaperlessBilli...</td>\n",
              "    </tr>\n",
              "    <tr>\n",
              "      <th>4</th>\n",
              "      <td>0013-EXCHZ</td>\n",
              "      <td>Yes</td>\n",
              "      <td>{'gender': 'Female', 'SeniorCitizen': 1, 'Part...</td>\n",
              "      <td>{'PhoneService': 'Yes', 'MultipleLines': 'No'}</td>\n",
              "      <td>{'InternetService': 'Fiber optic', 'OnlineSecu...</td>\n",
              "      <td>{'Contract': 'Month-to-month', 'PaperlessBilli...</td>\n",
              "    </tr>\n",
              "  </tbody>\n",
              "</table>\n",
              "</div>\n",
              "    <div class=\"colab-df-buttons\">\n",
              "\n",
              "  <div class=\"colab-df-container\">\n",
              "    <button class=\"colab-df-convert\" onclick=\"convertToInteractive('df-f2c4ce00-20df-48e4-bb5c-6a8e3ee026d8')\"\n",
              "            title=\"Convert this dataframe to an interactive table.\"\n",
              "            style=\"display:none;\">\n",
              "\n",
              "  <svg xmlns=\"http://www.w3.org/2000/svg\" height=\"24px\" viewBox=\"0 -960 960 960\">\n",
              "    <path d=\"M120-120v-720h720v720H120Zm60-500h600v-160H180v160Zm220 220h160v-160H400v160Zm0 220h160v-160H400v160ZM180-400h160v-160H180v160Zm440 0h160v-160H620v160ZM180-180h160v-160H180v160Zm440 0h160v-160H620v160Z\"/>\n",
              "  </svg>\n",
              "    </button>\n",
              "\n",
              "  <style>\n",
              "    .colab-df-container {\n",
              "      display:flex;\n",
              "      gap: 12px;\n",
              "    }\n",
              "\n",
              "    .colab-df-convert {\n",
              "      background-color: #E8F0FE;\n",
              "      border: none;\n",
              "      border-radius: 50%;\n",
              "      cursor: pointer;\n",
              "      display: none;\n",
              "      fill: #1967D2;\n",
              "      height: 32px;\n",
              "      padding: 0 0 0 0;\n",
              "      width: 32px;\n",
              "    }\n",
              "\n",
              "    .colab-df-convert:hover {\n",
              "      background-color: #E2EBFA;\n",
              "      box-shadow: 0px 1px 2px rgba(60, 64, 67, 0.3), 0px 1px 3px 1px rgba(60, 64, 67, 0.15);\n",
              "      fill: #174EA6;\n",
              "    }\n",
              "\n",
              "    .colab-df-buttons div {\n",
              "      margin-bottom: 4px;\n",
              "    }\n",
              "\n",
              "    [theme=dark] .colab-df-convert {\n",
              "      background-color: #3B4455;\n",
              "      fill: #D2E3FC;\n",
              "    }\n",
              "\n",
              "    [theme=dark] .colab-df-convert:hover {\n",
              "      background-color: #434B5C;\n",
              "      box-shadow: 0px 1px 3px 1px rgba(0, 0, 0, 0.15);\n",
              "      filter: drop-shadow(0px 1px 2px rgba(0, 0, 0, 0.3));\n",
              "      fill: #FFFFFF;\n",
              "    }\n",
              "  </style>\n",
              "\n",
              "    <script>\n",
              "      const buttonEl =\n",
              "        document.querySelector('#df-f2c4ce00-20df-48e4-bb5c-6a8e3ee026d8 button.colab-df-convert');\n",
              "      buttonEl.style.display =\n",
              "        google.colab.kernel.accessAllowed ? 'block' : 'none';\n",
              "\n",
              "      async function convertToInteractive(key) {\n",
              "        const element = document.querySelector('#df-f2c4ce00-20df-48e4-bb5c-6a8e3ee026d8');\n",
              "        const dataTable =\n",
              "          await google.colab.kernel.invokeFunction('convertToInteractive',\n",
              "                                                    [key], {});\n",
              "        if (!dataTable) return;\n",
              "\n",
              "        const docLinkHtml = 'Like what you see? Visit the ' +\n",
              "          '<a target=\"_blank\" href=https://colab.research.google.com/notebooks/data_table.ipynb>data table notebook</a>'\n",
              "          + ' to learn more about interactive tables.';\n",
              "        element.innerHTML = '';\n",
              "        dataTable['output_type'] = 'display_data';\n",
              "        await google.colab.output.renderOutput(dataTable, element);\n",
              "        const docLink = document.createElement('div');\n",
              "        docLink.innerHTML = docLinkHtml;\n",
              "        element.appendChild(docLink);\n",
              "      }\n",
              "    </script>\n",
              "  </div>\n",
              "\n",
              "\n",
              "    <div id=\"df-e30b56dd-ba38-4498-9ddf-3cf2f71ec7fd\">\n",
              "      <button class=\"colab-df-quickchart\" onclick=\"quickchart('df-e30b56dd-ba38-4498-9ddf-3cf2f71ec7fd')\"\n",
              "                title=\"Suggest charts\"\n",
              "                style=\"display:none;\">\n",
              "\n",
              "<svg xmlns=\"http://www.w3.org/2000/svg\" height=\"24px\"viewBox=\"0 0 24 24\"\n",
              "     width=\"24px\">\n",
              "    <g>\n",
              "        <path d=\"M19 3H5c-1.1 0-2 .9-2 2v14c0 1.1.9 2 2 2h14c1.1 0 2-.9 2-2V5c0-1.1-.9-2-2-2zM9 17H7v-7h2v7zm4 0h-2V7h2v10zm4 0h-2v-4h2v4z\"/>\n",
              "    </g>\n",
              "</svg>\n",
              "      </button>\n",
              "\n",
              "<style>\n",
              "  .colab-df-quickchart {\n",
              "      --bg-color: #E8F0FE;\n",
              "      --fill-color: #1967D2;\n",
              "      --hover-bg-color: #E2EBFA;\n",
              "      --hover-fill-color: #174EA6;\n",
              "      --disabled-fill-color: #AAA;\n",
              "      --disabled-bg-color: #DDD;\n",
              "  }\n",
              "\n",
              "  [theme=dark] .colab-df-quickchart {\n",
              "      --bg-color: #3B4455;\n",
              "      --fill-color: #D2E3FC;\n",
              "      --hover-bg-color: #434B5C;\n",
              "      --hover-fill-color: #FFFFFF;\n",
              "      --disabled-bg-color: #3B4455;\n",
              "      --disabled-fill-color: #666;\n",
              "  }\n",
              "\n",
              "  .colab-df-quickchart {\n",
              "    background-color: var(--bg-color);\n",
              "    border: none;\n",
              "    border-radius: 50%;\n",
              "    cursor: pointer;\n",
              "    display: none;\n",
              "    fill: var(--fill-color);\n",
              "    height: 32px;\n",
              "    padding: 0;\n",
              "    width: 32px;\n",
              "  }\n",
              "\n",
              "  .colab-df-quickchart:hover {\n",
              "    background-color: var(--hover-bg-color);\n",
              "    box-shadow: 0 1px 2px rgba(60, 64, 67, 0.3), 0 1px 3px 1px rgba(60, 64, 67, 0.15);\n",
              "    fill: var(--button-hover-fill-color);\n",
              "  }\n",
              "\n",
              "  .colab-df-quickchart-complete:disabled,\n",
              "  .colab-df-quickchart-complete:disabled:hover {\n",
              "    background-color: var(--disabled-bg-color);\n",
              "    fill: var(--disabled-fill-color);\n",
              "    box-shadow: none;\n",
              "  }\n",
              "\n",
              "  .colab-df-spinner {\n",
              "    border: 2px solid var(--fill-color);\n",
              "    border-color: transparent;\n",
              "    border-bottom-color: var(--fill-color);\n",
              "    animation:\n",
              "      spin 1s steps(1) infinite;\n",
              "  }\n",
              "\n",
              "  @keyframes spin {\n",
              "    0% {\n",
              "      border-color: transparent;\n",
              "      border-bottom-color: var(--fill-color);\n",
              "      border-left-color: var(--fill-color);\n",
              "    }\n",
              "    20% {\n",
              "      border-color: transparent;\n",
              "      border-left-color: var(--fill-color);\n",
              "      border-top-color: var(--fill-color);\n",
              "    }\n",
              "    30% {\n",
              "      border-color: transparent;\n",
              "      border-left-color: var(--fill-color);\n",
              "      border-top-color: var(--fill-color);\n",
              "      border-right-color: var(--fill-color);\n",
              "    }\n",
              "    40% {\n",
              "      border-color: transparent;\n",
              "      border-right-color: var(--fill-color);\n",
              "      border-top-color: var(--fill-color);\n",
              "    }\n",
              "    60% {\n",
              "      border-color: transparent;\n",
              "      border-right-color: var(--fill-color);\n",
              "    }\n",
              "    80% {\n",
              "      border-color: transparent;\n",
              "      border-right-color: var(--fill-color);\n",
              "      border-bottom-color: var(--fill-color);\n",
              "    }\n",
              "    90% {\n",
              "      border-color: transparent;\n",
              "      border-bottom-color: var(--fill-color);\n",
              "    }\n",
              "  }\n",
              "</style>\n",
              "\n",
              "      <script>\n",
              "        async function quickchart(key) {\n",
              "          const quickchartButtonEl =\n",
              "            document.querySelector('#' + key + ' button');\n",
              "          quickchartButtonEl.disabled = true;  // To prevent multiple clicks.\n",
              "          quickchartButtonEl.classList.add('colab-df-spinner');\n",
              "          try {\n",
              "            const charts = await google.colab.kernel.invokeFunction(\n",
              "                'suggestCharts', [key], {});\n",
              "          } catch (error) {\n",
              "            console.error('Error during call to suggestCharts:', error);\n",
              "          }\n",
              "          quickchartButtonEl.classList.remove('colab-df-spinner');\n",
              "          quickchartButtonEl.classList.add('colab-df-quickchart-complete');\n",
              "        }\n",
              "        (() => {\n",
              "          let quickchartButtonEl =\n",
              "            document.querySelector('#df-e30b56dd-ba38-4498-9ddf-3cf2f71ec7fd button');\n",
              "          quickchartButtonEl.style.display =\n",
              "            google.colab.kernel.accessAllowed ? 'block' : 'none';\n",
              "        })();\n",
              "      </script>\n",
              "    </div>\n",
              "\n",
              "    </div>\n",
              "  </div>\n"
            ],
            "application/vnd.google.colaboratory.intrinsic+json": {
              "type": "dataframe",
              "variable_name": "df",
              "summary": "{\n  \"name\": \"df\",\n  \"rows\": 7267,\n  \"fields\": [\n    {\n      \"column\": \"customerID\",\n      \"properties\": {\n        \"dtype\": \"string\",\n        \"num_unique_values\": 7267,\n        \"samples\": [\n          \"2038-OEQZH\",\n          \"6322-HRPFA\",\n          \"3969-JQABI\"\n        ],\n        \"semantic_type\": \"\",\n        \"description\": \"\"\n      }\n    },\n    {\n      \"column\": \"Churn\",\n      \"properties\": {\n        \"dtype\": \"category\",\n        \"num_unique_values\": 3,\n        \"samples\": [\n          \"No\",\n          \"Yes\",\n          \"\"\n        ],\n        \"semantic_type\": \"\",\n        \"description\": \"\"\n      }\n    },\n    {\n      \"column\": \"customer\",\n      \"properties\": {\n        \"dtype\": \"object\",\n        \"semantic_type\": \"\",\n        \"description\": \"\"\n      }\n    },\n    {\n      \"column\": \"phone\",\n      \"properties\": {\n        \"dtype\": \"object\",\n        \"semantic_type\": \"\",\n        \"description\": \"\"\n      }\n    },\n    {\n      \"column\": \"internet\",\n      \"properties\": {\n        \"dtype\": \"object\",\n        \"semantic_type\": \"\",\n        \"description\": \"\"\n      }\n    },\n    {\n      \"column\": \"account\",\n      \"properties\": {\n        \"dtype\": \"object\",\n        \"semantic_type\": \"\",\n        \"description\": \"\"\n      }\n    }\n  ]\n}"
            }
          },
          "metadata": {},
          "execution_count": 75
        }
      ]
    },
    {
      "cell_type": "markdown",
      "source": [
        "# ***Transformando dados***"
      ],
      "metadata": {
        "id": "-lTD1QUTZQNZ"
      }
    },
    {
      "cell_type": "markdown",
      "source": [
        "***Convertendo os Dicionários da Coluna customer em um Data Frame***"
      ],
      "metadata": {
        "id": "rNpOqbWwUHe1"
      }
    },
    {
      "cell_type": "code",
      "source": [
        "customer_data = df['customer'].tolist()\n",
        "customer_df = pd.DataFrame(customer_data)\n",
        "print(customer_df.head())"
      ],
      "metadata": {
        "colab": {
          "base_uri": "https://localhost:8080/"
        },
        "id": "SWm_XzZ0Z3lA",
        "outputId": "b18b072c-28c0-4239-eaed-19da2b987faf"
      },
      "execution_count": 76,
      "outputs": [
        {
          "output_type": "stream",
          "name": "stdout",
          "text": [
            "   gender  SeniorCitizen Partner Dependents  tenure\n",
            "0  Female              0     Yes        Yes       9\n",
            "1    Male              0      No         No       9\n",
            "2    Male              0      No         No       4\n",
            "3    Male              1     Yes         No      13\n",
            "4  Female              1     Yes         No       3\n"
          ]
        }
      ]
    },
    {
      "cell_type": "markdown",
      "source": [
        "***Convertendo os Dicionários da Coluna phone em um Data Frame***"
      ],
      "metadata": {
        "id": "3ZkVQsxyUJ51"
      }
    },
    {
      "cell_type": "code",
      "source": [
        "phone_data = df['phone'].tolist()\n",
        "phone_df = pd.DataFrame(phone_data)\n",
        "print(phone_df.head())"
      ],
      "metadata": {
        "colab": {
          "base_uri": "https://localhost:8080/"
        },
        "id": "kYgpA9uTdCER",
        "outputId": "3d441907-7b18-4ab7-880a-6d8202ce48b9"
      },
      "execution_count": 77,
      "outputs": [
        {
          "output_type": "stream",
          "name": "stdout",
          "text": [
            "  PhoneService MultipleLines\n",
            "0          Yes            No\n",
            "1          Yes           Yes\n",
            "2          Yes            No\n",
            "3          Yes            No\n",
            "4          Yes            No\n"
          ]
        }
      ]
    },
    {
      "cell_type": "markdown",
      "source": [
        "***Convertendo os Dicionários da Coluna internet em um Data Frame***"
      ],
      "metadata": {
        "id": "tkNgnm04RpT9"
      }
    },
    {
      "cell_type": "code",
      "source": [
        "internet_data = df['internet'].tolist()\n",
        "internet_df = pd.DataFrame(internet_data)\n",
        "print(internet_df.head())"
      ],
      "metadata": {
        "colab": {
          "base_uri": "https://localhost:8080/"
        },
        "id": "UongR4ctdooQ",
        "outputId": "72ffcac6-8a5e-47c1-c1eb-d2803d791d4a"
      },
      "execution_count": 78,
      "outputs": [
        {
          "output_type": "stream",
          "name": "stdout",
          "text": [
            "  InternetService OnlineSecurity OnlineBackup DeviceProtection TechSupport  \\\n",
            "0             DSL             No          Yes               No         Yes   \n",
            "1             DSL             No           No               No          No   \n",
            "2     Fiber optic             No           No              Yes          No   \n",
            "3     Fiber optic             No          Yes              Yes          No   \n",
            "4     Fiber optic             No           No               No         Yes   \n",
            "\n",
            "  StreamingTV StreamingMovies  \n",
            "0         Yes              No  \n",
            "1          No             Yes  \n",
            "2          No              No  \n",
            "3         Yes             Yes  \n",
            "4         Yes              No  \n"
          ]
        }
      ]
    },
    {
      "cell_type": "markdown",
      "source": [
        "***Convertendo os Dicionários da Coluna account em um Data Frame***"
      ],
      "metadata": {
        "id": "d6IacoMrUxyl"
      }
    },
    {
      "cell_type": "code",
      "source": [
        "account_data = df['account'].tolist()\n",
        "account_df = pd.DataFrame(account_data)\n",
        "print(account_df.head())"
      ],
      "metadata": {
        "colab": {
          "base_uri": "https://localhost:8080/"
        },
        "id": "vWcy2cnnebIB",
        "outputId": "b68910e8-4883-4dd9-9adb-abb2ed9d99e9"
      },
      "execution_count": 79,
      "outputs": [
        {
          "output_type": "stream",
          "name": "stdout",
          "text": [
            "         Contract PaperlessBilling     PaymentMethod  \\\n",
            "0        One year              Yes      Mailed check   \n",
            "1  Month-to-month               No      Mailed check   \n",
            "2  Month-to-month              Yes  Electronic check   \n",
            "3  Month-to-month              Yes  Electronic check   \n",
            "4  Month-to-month              Yes      Mailed check   \n",
            "\n",
            "                                 Charges  \n",
            "0    {'Monthly': 65.6, 'Total': '593.3'}  \n",
            "1    {'Monthly': 59.9, 'Total': '542.4'}  \n",
            "2   {'Monthly': 73.9, 'Total': '280.85'}  \n",
            "3  {'Monthly': 98.0, 'Total': '1237.85'}  \n",
            "4    {'Monthly': 83.9, 'Total': '267.4'}  \n"
          ]
        }
      ]
    },
    {
      "cell_type": "markdown",
      "source": [
        "***Convertendo os Dicionários da Coluna account[charges] em um Data Frame***"
      ],
      "metadata": {
        "id": "GGaI7P_IU4tu"
      }
    },
    {
      "cell_type": "code",
      "source": [
        "charges_data = account_df['Charges'].tolist()\n",
        "charges_df = pd.DataFrame(charges_data)\n",
        "print(charges_df.head())"
      ],
      "metadata": {
        "colab": {
          "base_uri": "https://localhost:8080/"
        },
        "id": "lVRAoh2mImYq",
        "outputId": "99d67fb1-3953-4795-9958-2eb6700e22c4"
      },
      "execution_count": 80,
      "outputs": [
        {
          "output_type": "stream",
          "name": "stdout",
          "text": [
            "   Monthly    Total\n",
            "0     65.6    593.3\n",
            "1     59.9    542.4\n",
            "2     73.9   280.85\n",
            "3     98.0  1237.85\n",
            "4     83.9    267.4\n"
          ]
        }
      ]
    },
    {
      "cell_type": "markdown",
      "source": [
        "**Verificando tipo de dados**"
      ],
      "metadata": {
        "id": "P0-_3p19EEXL"
      }
    },
    {
      "cell_type": "code",
      "source": [
        "charges_df.dtypes"
      ],
      "metadata": {
        "colab": {
          "base_uri": "https://localhost:8080/",
          "height": 147
        },
        "id": "ee2J47UaDRo7",
        "outputId": "c358db89-d89a-4fb6-901b-a4bf5d9405f2"
      },
      "execution_count": 81,
      "outputs": [
        {
          "output_type": "execute_result",
          "data": {
            "text/plain": [
              "Monthly    float64\n",
              "Total       object\n",
              "dtype: object"
            ],
            "text/html": [
              "<div>\n",
              "<style scoped>\n",
              "    .dataframe tbody tr th:only-of-type {\n",
              "        vertical-align: middle;\n",
              "    }\n",
              "\n",
              "    .dataframe tbody tr th {\n",
              "        vertical-align: top;\n",
              "    }\n",
              "\n",
              "    .dataframe thead th {\n",
              "        text-align: right;\n",
              "    }\n",
              "</style>\n",
              "<table border=\"1\" class=\"dataframe\">\n",
              "  <thead>\n",
              "    <tr style=\"text-align: right;\">\n",
              "      <th></th>\n",
              "      <th>0</th>\n",
              "    </tr>\n",
              "  </thead>\n",
              "  <tbody>\n",
              "    <tr>\n",
              "      <th>Monthly</th>\n",
              "      <td>float64</td>\n",
              "    </tr>\n",
              "    <tr>\n",
              "      <th>Total</th>\n",
              "      <td>object</td>\n",
              "    </tr>\n",
              "  </tbody>\n",
              "</table>\n",
              "</div><br><label><b>dtype:</b> object</label>"
            ]
          },
          "metadata": {},
          "execution_count": 81
        }
      ]
    },
    {
      "cell_type": "markdown",
      "source": [
        "**Convertendo dados da coluna Total para float64**"
      ],
      "metadata": {
        "id": "xYg5akqdETTi"
      }
    },
    {
      "cell_type": "code",
      "source": [
        "charges_df['Total'] = pd.to_numeric(charges_df['Total'], errors='coerce')\n",
        "charges_df.dtypes"
      ],
      "metadata": {
        "colab": {
          "base_uri": "https://localhost:8080/",
          "height": 147
        },
        "id": "akjcZKxZDeJy",
        "outputId": "82f8fe80-be7a-4f3f-c2d9-bd1d470713bf"
      },
      "execution_count": 82,
      "outputs": [
        {
          "output_type": "execute_result",
          "data": {
            "text/plain": [
              "Monthly    float64\n",
              "Total      float64\n",
              "dtype: object"
            ],
            "text/html": [
              "<div>\n",
              "<style scoped>\n",
              "    .dataframe tbody tr th:only-of-type {\n",
              "        vertical-align: middle;\n",
              "    }\n",
              "\n",
              "    .dataframe tbody tr th {\n",
              "        vertical-align: top;\n",
              "    }\n",
              "\n",
              "    .dataframe thead th {\n",
              "        text-align: right;\n",
              "    }\n",
              "</style>\n",
              "<table border=\"1\" class=\"dataframe\">\n",
              "  <thead>\n",
              "    <tr style=\"text-align: right;\">\n",
              "      <th></th>\n",
              "      <th>0</th>\n",
              "    </tr>\n",
              "  </thead>\n",
              "  <tbody>\n",
              "    <tr>\n",
              "      <th>Monthly</th>\n",
              "      <td>float64</td>\n",
              "    </tr>\n",
              "    <tr>\n",
              "      <th>Total</th>\n",
              "      <td>float64</td>\n",
              "    </tr>\n",
              "  </tbody>\n",
              "</table>\n",
              "</div><br><label><b>dtype:</b> object</label>"
            ]
          },
          "metadata": {},
          "execution_count": 82
        }
      ]
    },
    {
      "cell_type": "markdown",
      "source": [
        "***Fazendo o Merge para deixar somente 1 Data Frame***"
      ],
      "metadata": {
        "id": "p3RwuLOrU4bm"
      }
    },
    {
      "cell_type": "code",
      "source": [
        "df_merged = df.drop(columns=['customer', 'phone', 'internet', 'account'])\n",
        "\n",
        "df_merged = df_merged.merge(customer_df, left_index=True, right_index=True)\n",
        "df_merged = df_merged.merge(phone_df, left_index=True, right_index=True)\n",
        "df_merged = df_merged.merge(internet_df, left_index=True, right_index=True)\n",
        "df_merged = df_merged.merge(account_df.drop(columns=['Charges']), left_index=True, right_index=True)\n",
        "df_merged = df_merged.merge(charges_df, left_index=True, right_index=True)\n",
        "\n",
        "\n",
        "print(df_merged.head())"
      ],
      "metadata": {
        "colab": {
          "base_uri": "https://localhost:8080/"
        },
        "id": "J25AsC1ZJiFq",
        "outputId": "dbc4f0ba-a469-4ea0-d3a1-8490b27e44f1"
      },
      "execution_count": 83,
      "outputs": [
        {
          "output_type": "stream",
          "name": "stdout",
          "text": [
            "   customerID Churn  gender  SeniorCitizen Partner Dependents  tenure  \\\n",
            "0  0002-ORFBO    No  Female              0     Yes        Yes       9   \n",
            "1  0003-MKNFE    No    Male              0      No         No       9   \n",
            "2  0004-TLHLJ   Yes    Male              0      No         No       4   \n",
            "3  0011-IGKFF   Yes    Male              1     Yes         No      13   \n",
            "4  0013-EXCHZ   Yes  Female              1     Yes         No       3   \n",
            "\n",
            "  PhoneService MultipleLines InternetService  ... OnlineBackup  \\\n",
            "0          Yes            No             DSL  ...          Yes   \n",
            "1          Yes           Yes             DSL  ...           No   \n",
            "2          Yes            No     Fiber optic  ...           No   \n",
            "3          Yes            No     Fiber optic  ...          Yes   \n",
            "4          Yes            No     Fiber optic  ...           No   \n",
            "\n",
            "  DeviceProtection TechSupport StreamingTV StreamingMovies        Contract  \\\n",
            "0               No         Yes         Yes              No        One year   \n",
            "1               No          No          No             Yes  Month-to-month   \n",
            "2              Yes          No          No              No  Month-to-month   \n",
            "3              Yes          No         Yes             Yes  Month-to-month   \n",
            "4               No         Yes         Yes              No  Month-to-month   \n",
            "\n",
            "  PaperlessBilling     PaymentMethod Monthly    Total  \n",
            "0              Yes      Mailed check    65.6   593.30  \n",
            "1               No      Mailed check    59.9   542.40  \n",
            "2              Yes  Electronic check    73.9   280.85  \n",
            "3              Yes  Electronic check    98.0  1237.85  \n",
            "4              Yes      Mailed check    83.9   267.40  \n",
            "\n",
            "[5 rows x 21 columns]\n"
          ]
        }
      ]
    },
    {
      "cell_type": "markdown",
      "source": [
        "***Verificando os tipos de dados no novo Data Frame***"
      ],
      "metadata": {
        "id": "yp80AcA80QEG"
      }
    },
    {
      "cell_type": "code",
      "source": [
        "df_merged.dtypes"
      ],
      "metadata": {
        "colab": {
          "base_uri": "https://localhost:8080/",
          "height": 742
        },
        "id": "dAh9Yt3qFzh6",
        "outputId": "eef1f467-a28f-450d-98eb-054a82236f7c"
      },
      "execution_count": 84,
      "outputs": [
        {
          "output_type": "execute_result",
          "data": {
            "text/plain": [
              "customerID           object\n",
              "Churn                object\n",
              "gender               object\n",
              "SeniorCitizen         int64\n",
              "Partner              object\n",
              "Dependents           object\n",
              "tenure                int64\n",
              "PhoneService         object\n",
              "MultipleLines        object\n",
              "InternetService      object\n",
              "OnlineSecurity       object\n",
              "OnlineBackup         object\n",
              "DeviceProtection     object\n",
              "TechSupport          object\n",
              "StreamingTV          object\n",
              "StreamingMovies      object\n",
              "Contract             object\n",
              "PaperlessBilling     object\n",
              "PaymentMethod        object\n",
              "Monthly             float64\n",
              "Total               float64\n",
              "dtype: object"
            ],
            "text/html": [
              "<div>\n",
              "<style scoped>\n",
              "    .dataframe tbody tr th:only-of-type {\n",
              "        vertical-align: middle;\n",
              "    }\n",
              "\n",
              "    .dataframe tbody tr th {\n",
              "        vertical-align: top;\n",
              "    }\n",
              "\n",
              "    .dataframe thead th {\n",
              "        text-align: right;\n",
              "    }\n",
              "</style>\n",
              "<table border=\"1\" class=\"dataframe\">\n",
              "  <thead>\n",
              "    <tr style=\"text-align: right;\">\n",
              "      <th></th>\n",
              "      <th>0</th>\n",
              "    </tr>\n",
              "  </thead>\n",
              "  <tbody>\n",
              "    <tr>\n",
              "      <th>customerID</th>\n",
              "      <td>object</td>\n",
              "    </tr>\n",
              "    <tr>\n",
              "      <th>Churn</th>\n",
              "      <td>object</td>\n",
              "    </tr>\n",
              "    <tr>\n",
              "      <th>gender</th>\n",
              "      <td>object</td>\n",
              "    </tr>\n",
              "    <tr>\n",
              "      <th>SeniorCitizen</th>\n",
              "      <td>int64</td>\n",
              "    </tr>\n",
              "    <tr>\n",
              "      <th>Partner</th>\n",
              "      <td>object</td>\n",
              "    </tr>\n",
              "    <tr>\n",
              "      <th>Dependents</th>\n",
              "      <td>object</td>\n",
              "    </tr>\n",
              "    <tr>\n",
              "      <th>tenure</th>\n",
              "      <td>int64</td>\n",
              "    </tr>\n",
              "    <tr>\n",
              "      <th>PhoneService</th>\n",
              "      <td>object</td>\n",
              "    </tr>\n",
              "    <tr>\n",
              "      <th>MultipleLines</th>\n",
              "      <td>object</td>\n",
              "    </tr>\n",
              "    <tr>\n",
              "      <th>InternetService</th>\n",
              "      <td>object</td>\n",
              "    </tr>\n",
              "    <tr>\n",
              "      <th>OnlineSecurity</th>\n",
              "      <td>object</td>\n",
              "    </tr>\n",
              "    <tr>\n",
              "      <th>OnlineBackup</th>\n",
              "      <td>object</td>\n",
              "    </tr>\n",
              "    <tr>\n",
              "      <th>DeviceProtection</th>\n",
              "      <td>object</td>\n",
              "    </tr>\n",
              "    <tr>\n",
              "      <th>TechSupport</th>\n",
              "      <td>object</td>\n",
              "    </tr>\n",
              "    <tr>\n",
              "      <th>StreamingTV</th>\n",
              "      <td>object</td>\n",
              "    </tr>\n",
              "    <tr>\n",
              "      <th>StreamingMovies</th>\n",
              "      <td>object</td>\n",
              "    </tr>\n",
              "    <tr>\n",
              "      <th>Contract</th>\n",
              "      <td>object</td>\n",
              "    </tr>\n",
              "    <tr>\n",
              "      <th>PaperlessBilling</th>\n",
              "      <td>object</td>\n",
              "    </tr>\n",
              "    <tr>\n",
              "      <th>PaymentMethod</th>\n",
              "      <td>object</td>\n",
              "    </tr>\n",
              "    <tr>\n",
              "      <th>Monthly</th>\n",
              "      <td>float64</td>\n",
              "    </tr>\n",
              "    <tr>\n",
              "      <th>Total</th>\n",
              "      <td>float64</td>\n",
              "    </tr>\n",
              "  </tbody>\n",
              "</table>\n",
              "</div><br><label><b>dtype:</b> object</label>"
            ]
          },
          "metadata": {},
          "execution_count": 84
        }
      ]
    },
    {
      "cell_type": "markdown",
      "source": [
        "***Transformando os dados da coluna SeniorCiizen para True or False***"
      ],
      "metadata": {
        "id": "ASJAwrgmVPxc"
      }
    },
    {
      "cell_type": "code",
      "source": [
        "df_merged['SeniorCitizen'] = df_merged['SeniorCitizen'].replace({1: True, 0: False})\n",
        "\n",
        "print(df_merged.head())"
      ],
      "metadata": {
        "colab": {
          "base_uri": "https://localhost:8080/"
        },
        "id": "8tG4WlrQP0tN",
        "outputId": "cb0124e7-07b7-4eb4-fd9e-b8d16b7f88e4"
      },
      "execution_count": 109,
      "outputs": [
        {
          "output_type": "stream",
          "name": "stdout",
          "text": [
            "   customerID  Churn  gender  SeniorCitizen  Partner  Dependents  tenure  \\\n",
            "0  0002-ORFBO  False  Female          False     True        True       9   \n",
            "1  0003-MKNFE  False    Male          False    False       False       9   \n",
            "2  0004-TLHLJ   True    Male          False    False       False       4   \n",
            "3  0011-IGKFF   True    Male           True     True       False      13   \n",
            "4  0013-EXCHZ   True  Female           True     True       False       3   \n",
            "\n",
            "   PhoneService  MultipleLines InternetService  ...  OnlineBackup  \\\n",
            "0          True          False             DSL  ...          True   \n",
            "1          True           True             DSL  ...         False   \n",
            "2          True          False     Fiber optic  ...         False   \n",
            "3          True          False     Fiber optic  ...          True   \n",
            "4          True          False     Fiber optic  ...         False   \n",
            "\n",
            "   DeviceProtection  TechSupport  StreamingTV  StreamingMovies  \\\n",
            "0             False         True         True            False   \n",
            "1             False        False        False             True   \n",
            "2              True        False        False            False   \n",
            "3              True        False         True             True   \n",
            "4             False         True         True            False   \n",
            "\n",
            "         Contract PaperlessBilling     PaymentMethod Monthly    Total  \n",
            "0        One year             True      Mailed check    65.6   593.30  \n",
            "1  Month-to-month            False      Mailed check    59.9   542.40  \n",
            "2  Month-to-month             True  Electronic check    73.9   280.85  \n",
            "3  Month-to-month             True  Electronic check    98.0  1237.85  \n",
            "4  Month-to-month             True      Mailed check    83.9   267.40  \n",
            "\n",
            "[5 rows x 21 columns]\n"
          ]
        }
      ]
    },
    {
      "cell_type": "markdown",
      "source": [
        "***Transformando os dados Yes e No das colunas para True e False***"
      ],
      "metadata": {
        "id": "vyRjv_ZoYLJT"
      }
    },
    {
      "cell_type": "code",
      "source": [
        "columns_to_transform = [\n",
        "    'Churn', 'Partner', 'Dependents', 'PhoneService', 'MultipleLines',\n",
        "    'OnlineSecurity', 'OnlineBackup', 'DeviceProtection', 'TechSupport',\n",
        "    'StreamingTV', 'StreamingMovies', 'PaperlessBilling'\n",
        "]\n",
        "\n",
        "for col in columns_to_transform:\n",
        "    df_merged[col] = df_merged[col].replace({'Yes': True, 'No': False}).infer_objects(copy=False)\n",
        "\n",
        "print(df_merged.head())"
      ],
      "metadata": {
        "colab": {
          "base_uri": "https://localhost:8080/"
        },
        "id": "Avwhr3Flbnt_",
        "outputId": "4c6978f1-65ca-4871-9f65-12f0ee334d9f"
      },
      "execution_count": 101,
      "outputs": [
        {
          "output_type": "stream",
          "name": "stdout",
          "text": [
            "   customerID  Churn  gender  SeniorCitizen  Partner  Dependents  tenure  \\\n",
            "0  0002-ORFBO  False  Female          False     True        True       9   \n",
            "1  0003-MKNFE  False    Male          False    False       False       9   \n",
            "2  0004-TLHLJ   True    Male          False    False       False       4   \n",
            "3  0011-IGKFF   True    Male           True     True       False      13   \n",
            "4  0013-EXCHZ   True  Female           True     True       False       3   \n",
            "\n",
            "   PhoneService  MultipleLines InternetService  ...  OnlineBackup  \\\n",
            "0          True          False             DSL  ...          True   \n",
            "1          True           True             DSL  ...         False   \n",
            "2          True          False     Fiber optic  ...         False   \n",
            "3          True          False     Fiber optic  ...          True   \n",
            "4          True          False     Fiber optic  ...         False   \n",
            "\n",
            "   DeviceProtection  TechSupport  StreamingTV  StreamingMovies  \\\n",
            "0             False         True         True            False   \n",
            "1             False        False        False             True   \n",
            "2              True        False        False            False   \n",
            "3              True        False         True             True   \n",
            "4             False         True         True            False   \n",
            "\n",
            "         Contract PaperlessBilling     PaymentMethod Monthly    Total  \n",
            "0        One year             True      Mailed check    65.6   593.30  \n",
            "1  Month-to-month            False      Mailed check    59.9   542.40  \n",
            "2  Month-to-month             True  Electronic check    73.9   280.85  \n",
            "3  Month-to-month             True  Electronic check    98.0  1237.85  \n",
            "4  Month-to-month             True      Mailed check    83.9   267.40  \n",
            "\n",
            "[5 rows x 21 columns]\n"
          ]
        }
      ]
    },
    {
      "cell_type": "markdown",
      "source": [
        "***Verificando se existe alguma coluna sem valor no dataframe df_merged***"
      ],
      "metadata": {
        "id": "8vizpPR9JpbX"
      }
    },
    {
      "cell_type": "code",
      "source": [
        "print(df_merged.isnull().sum())"
      ],
      "metadata": {
        "colab": {
          "base_uri": "https://localhost:8080/"
        },
        "id": "RcchB5tKsqVc",
        "outputId": "30feac71-5833-4d24-ed7b-02100b4488dd"
      },
      "execution_count": 102,
      "outputs": [
        {
          "output_type": "stream",
          "name": "stdout",
          "text": [
            "customerID          0\n",
            "Churn               0\n",
            "gender              0\n",
            "SeniorCitizen       0\n",
            "Partner             0\n",
            "Dependents          0\n",
            "tenure              0\n",
            "PhoneService        0\n",
            "MultipleLines       0\n",
            "InternetService     0\n",
            "OnlineSecurity      0\n",
            "OnlineBackup        0\n",
            "DeviceProtection    0\n",
            "TechSupport         0\n",
            "StreamingTV         0\n",
            "StreamingMovies     0\n",
            "Contract            0\n",
            "PaperlessBilling    0\n",
            "PaymentMethod       0\n",
            "Monthly             0\n",
            "Total               0\n",
            "dtype: int64\n"
          ]
        }
      ]
    },
    {
      "cell_type": "markdown",
      "source": [
        "***Corrigindo os NaN da coluna Total***"
      ],
      "metadata": {
        "id": "ydQLoS86J1XC"
      }
    },
    {
      "cell_type": "code",
      "source": [
        "average_total = df_merged['Total'].mean()\n",
        "df_merged['Total'] = df_merged['Total'].fillna(average_total)\n",
        "\n",
        "print(df_merged.isnull().sum())"
      ],
      "metadata": {
        "colab": {
          "base_uri": "https://localhost:8080/"
        },
        "id": "GrYX7byGKB8R",
        "outputId": "f945881a-2810-4aa8-c7a6-ea3568d346e0"
      },
      "execution_count": 103,
      "outputs": [
        {
          "output_type": "stream",
          "name": "stdout",
          "text": [
            "customerID          0\n",
            "Churn               0\n",
            "gender              0\n",
            "SeniorCitizen       0\n",
            "Partner             0\n",
            "Dependents          0\n",
            "tenure              0\n",
            "PhoneService        0\n",
            "MultipleLines       0\n",
            "InternetService     0\n",
            "OnlineSecurity      0\n",
            "OnlineBackup        0\n",
            "DeviceProtection    0\n",
            "TechSupport         0\n",
            "StreamingTV         0\n",
            "StreamingMovies     0\n",
            "Contract            0\n",
            "PaperlessBilling    0\n",
            "PaymentMethod       0\n",
            "Monthly             0\n",
            "Total               0\n",
            "dtype: int64\n"
          ]
        }
      ]
    },
    {
      "cell_type": "markdown",
      "source": [
        "***Checando novamente o Data Frame***"
      ],
      "metadata": {
        "id": "xyans8g_0tuO"
      }
    },
    {
      "cell_type": "code",
      "source": [
        "df_merged.dtypes"
      ],
      "metadata": {
        "colab": {
          "base_uri": "https://localhost:8080/",
          "height": 742
        },
        "id": "eysL7UAFE9GD",
        "outputId": "d4f973f0-1e52-4e6b-8809-da2a9e3a1f63"
      },
      "execution_count": 104,
      "outputs": [
        {
          "output_type": "execute_result",
          "data": {
            "text/plain": [
              "customerID           object\n",
              "Churn                  bool\n",
              "gender               object\n",
              "SeniorCitizen          bool\n",
              "Partner                bool\n",
              "Dependents             bool\n",
              "tenure                int64\n",
              "PhoneService           bool\n",
              "MultipleLines          bool\n",
              "InternetService      object\n",
              "OnlineSecurity         bool\n",
              "OnlineBackup           bool\n",
              "DeviceProtection       bool\n",
              "TechSupport            bool\n",
              "StreamingTV            bool\n",
              "StreamingMovies        bool\n",
              "Contract             object\n",
              "PaperlessBilling       bool\n",
              "PaymentMethod        object\n",
              "Monthly             float64\n",
              "Total               float64\n",
              "dtype: object"
            ],
            "text/html": [
              "<div>\n",
              "<style scoped>\n",
              "    .dataframe tbody tr th:only-of-type {\n",
              "        vertical-align: middle;\n",
              "    }\n",
              "\n",
              "    .dataframe tbody tr th {\n",
              "        vertical-align: top;\n",
              "    }\n",
              "\n",
              "    .dataframe thead th {\n",
              "        text-align: right;\n",
              "    }\n",
              "</style>\n",
              "<table border=\"1\" class=\"dataframe\">\n",
              "  <thead>\n",
              "    <tr style=\"text-align: right;\">\n",
              "      <th></th>\n",
              "      <th>0</th>\n",
              "    </tr>\n",
              "  </thead>\n",
              "  <tbody>\n",
              "    <tr>\n",
              "      <th>customerID</th>\n",
              "      <td>object</td>\n",
              "    </tr>\n",
              "    <tr>\n",
              "      <th>Churn</th>\n",
              "      <td>bool</td>\n",
              "    </tr>\n",
              "    <tr>\n",
              "      <th>gender</th>\n",
              "      <td>object</td>\n",
              "    </tr>\n",
              "    <tr>\n",
              "      <th>SeniorCitizen</th>\n",
              "      <td>bool</td>\n",
              "    </tr>\n",
              "    <tr>\n",
              "      <th>Partner</th>\n",
              "      <td>bool</td>\n",
              "    </tr>\n",
              "    <tr>\n",
              "      <th>Dependents</th>\n",
              "      <td>bool</td>\n",
              "    </tr>\n",
              "    <tr>\n",
              "      <th>tenure</th>\n",
              "      <td>int64</td>\n",
              "    </tr>\n",
              "    <tr>\n",
              "      <th>PhoneService</th>\n",
              "      <td>bool</td>\n",
              "    </tr>\n",
              "    <tr>\n",
              "      <th>MultipleLines</th>\n",
              "      <td>bool</td>\n",
              "    </tr>\n",
              "    <tr>\n",
              "      <th>InternetService</th>\n",
              "      <td>object</td>\n",
              "    </tr>\n",
              "    <tr>\n",
              "      <th>OnlineSecurity</th>\n",
              "      <td>bool</td>\n",
              "    </tr>\n",
              "    <tr>\n",
              "      <th>OnlineBackup</th>\n",
              "      <td>bool</td>\n",
              "    </tr>\n",
              "    <tr>\n",
              "      <th>DeviceProtection</th>\n",
              "      <td>bool</td>\n",
              "    </tr>\n",
              "    <tr>\n",
              "      <th>TechSupport</th>\n",
              "      <td>bool</td>\n",
              "    </tr>\n",
              "    <tr>\n",
              "      <th>StreamingTV</th>\n",
              "      <td>bool</td>\n",
              "    </tr>\n",
              "    <tr>\n",
              "      <th>StreamingMovies</th>\n",
              "      <td>bool</td>\n",
              "    </tr>\n",
              "    <tr>\n",
              "      <th>Contract</th>\n",
              "      <td>object</td>\n",
              "    </tr>\n",
              "    <tr>\n",
              "      <th>PaperlessBilling</th>\n",
              "      <td>bool</td>\n",
              "    </tr>\n",
              "    <tr>\n",
              "      <th>PaymentMethod</th>\n",
              "      <td>object</td>\n",
              "    </tr>\n",
              "    <tr>\n",
              "      <th>Monthly</th>\n",
              "      <td>float64</td>\n",
              "    </tr>\n",
              "    <tr>\n",
              "      <th>Total</th>\n",
              "      <td>float64</td>\n",
              "    </tr>\n",
              "  </tbody>\n",
              "</table>\n",
              "</div><br><label><b>dtype:</b> object</label>"
            ]
          },
          "metadata": {},
          "execution_count": 104
        }
      ]
    },
    {
      "cell_type": "markdown",
      "source": [
        "***Verificando se todas as colunas estão corretas com True e False***"
      ],
      "metadata": {
        "id": "SxHjQq5ml7yl"
      }
    },
    {
      "cell_type": "code",
      "source": [
        "columns_to_check = [\n",
        "    'Churn', 'SeniorCitizen', 'Partner', 'Dependents', 'PhoneService',\n",
        "    'MultipleLines', 'OnlineSecurity', 'OnlineBackup', 'DeviceProtection',\n",
        "    'TechSupport', 'StreamingTV', 'StreamingMovies', 'PaperlessBilling'\n",
        "]\n",
        "\n",
        "for col in columns_to_check:\n",
        "    if not all(df_merged[col].isin([True, False])):\n",
        "        print(f\"Coluna '{col}' contém valores diferentes de True ou False.\")\n",
        "        print(df_merged[col].unique())"
      ],
      "metadata": {
        "id": "PiOvwM2Tl8Ft"
      },
      "execution_count": 105,
      "outputs": []
    },
    {
      "cell_type": "markdown",
      "source": [
        "**ENCONTRADO DADOS DIFFERENTES NAS COLUNAS ACIMA A TRATAR!**"
      ],
      "metadata": {
        "id": "cJ0wHSu087nT"
      }
    },
    {
      "cell_type": "markdown",
      "source": [
        "***Quantos valores estão errados na coluna Churn?***"
      ],
      "metadata": {
        "id": "TS_SE959wMGc"
      }
    },
    {
      "cell_type": "code",
      "source": [
        "non_boolean_churn_count = df_merged[~df_merged['Churn'].isin([True, False])].shape[0]\n",
        "print(f\"Número de valores diferentes de True ou False na coluna Churn: {non_boolean_churn_count}\")"
      ],
      "metadata": {
        "colab": {
          "base_uri": "https://localhost:8080/"
        },
        "id": "Fh6cjh-ywRx8",
        "outputId": "5700014b-bd17-4253-bdcd-1f196b71f8aa"
      },
      "execution_count": 91,
      "outputs": [
        {
          "output_type": "stream",
          "name": "stdout",
          "text": [
            "Número de valores diferentes de True ou False na coluna Churn: 224\n"
          ]
        }
      ]
    },
    {
      "cell_type": "markdown",
      "source": [
        "***ATENÇÃO***\n",
        "\n",
        "**ENCONTRADO 224 linhas com \"espaço\" Valor se sentido para nossa análise**\n",
        "\n",
        "**Como a análise precisa ser feita em cima de especificamente do Churn, estas linhas terão que ser descartadas! **"
      ],
      "metadata": {
        "id": "N86zEw0zzKHV"
      }
    },
    {
      "cell_type": "markdown",
      "source": [
        "**Criando um novo Data Frame com mesmo nome mas sem as linhas com Churn ' '**"
      ],
      "metadata": {
        "id": "dNch48OW6oLT"
      }
    },
    {
      "cell_type": "code",
      "source": [
        "df_churn = df_merged[df_merged['Churn'].isin([True, False])].copy()\n",
        "\n",
        "df_merged = df_churn\n",
        "print(df_merged.head())\n",
        "print(df_merged.isnull().sum())"
      ],
      "metadata": {
        "colab": {
          "base_uri": "https://localhost:8080/"
        },
        "id": "pKa7pY6J0fVN",
        "outputId": "373956f5-cc66-43ed-ea72-770e7f63c049"
      },
      "execution_count": 92,
      "outputs": [
        {
          "output_type": "stream",
          "name": "stdout",
          "text": [
            "   customerID  Churn  gender  SeniorCitizen  Partner  Dependents  tenure  \\\n",
            "0  0002-ORFBO  False  Female          False     True        True       9   \n",
            "1  0003-MKNFE  False    Male          False    False       False       9   \n",
            "2  0004-TLHLJ   True    Male          False    False       False       4   \n",
            "3  0011-IGKFF   True    Male           True     True       False      13   \n",
            "4  0013-EXCHZ   True  Female           True     True       False       3   \n",
            "\n",
            "   PhoneService MultipleLines InternetService  ... OnlineBackup  \\\n",
            "0          True         False             DSL  ...         True   \n",
            "1          True          True             DSL  ...        False   \n",
            "2          True         False     Fiber optic  ...        False   \n",
            "3          True         False     Fiber optic  ...         True   \n",
            "4          True         False     Fiber optic  ...        False   \n",
            "\n",
            "  DeviceProtection TechSupport StreamingTV StreamingMovies        Contract  \\\n",
            "0            False        True        True           False        One year   \n",
            "1            False       False       False            True  Month-to-month   \n",
            "2             True       False       False           False  Month-to-month   \n",
            "3             True       False        True            True  Month-to-month   \n",
            "4            False        True        True           False  Month-to-month   \n",
            "\n",
            "  PaperlessBilling     PaymentMethod Monthly    Total  \n",
            "0             True      Mailed check    65.6   593.30  \n",
            "1            False      Mailed check    59.9   542.40  \n",
            "2             True  Electronic check    73.9   280.85  \n",
            "3             True  Electronic check    98.0  1237.85  \n",
            "4             True      Mailed check    83.9   267.40  \n",
            "\n",
            "[5 rows x 21 columns]\n",
            "customerID          0\n",
            "Churn               0\n",
            "gender              0\n",
            "SeniorCitizen       0\n",
            "Partner             0\n",
            "Dependents          0\n",
            "tenure              0\n",
            "PhoneService        0\n",
            "MultipleLines       0\n",
            "InternetService     0\n",
            "OnlineSecurity      0\n",
            "OnlineBackup        0\n",
            "DeviceProtection    0\n",
            "TechSupport         0\n",
            "StreamingTV         0\n",
            "StreamingMovies     0\n",
            "Contract            0\n",
            "PaperlessBilling    0\n",
            "PaymentMethod       0\n",
            "Monthly             0\n",
            "Total               0\n",
            "dtype: int64\n"
          ]
        }
      ]
    },
    {
      "cell_type": "markdown",
      "source": [
        "**Conferindo se está tudo ok com a coluna Churn**"
      ],
      "metadata": {
        "id": "DuzYEldP630U"
      }
    },
    {
      "cell_type": "code",
      "source": [
        "churn_counts = df_merged['Churn'].value_counts()\n",
        "print(\"Contagem de True e False na coluna 'Churn':\")\n",
        "churn_counts"
      ],
      "metadata": {
        "colab": {
          "base_uri": "https://localhost:8080/",
          "height": 197
        },
        "id": "JNPXAjuGwfQM",
        "outputId": "a95a6ff5-2201-42f6-e75c-79d2ca843e59"
      },
      "execution_count": 93,
      "outputs": [
        {
          "output_type": "stream",
          "name": "stdout",
          "text": [
            "Contagem de True e False na coluna 'Churn':\n"
          ]
        },
        {
          "output_type": "execute_result",
          "data": {
            "text/plain": [
              "Churn\n",
              "False    5174\n",
              "True     1869\n",
              "Name: count, dtype: int64"
            ],
            "text/html": [
              "<div>\n",
              "<style scoped>\n",
              "    .dataframe tbody tr th:only-of-type {\n",
              "        vertical-align: middle;\n",
              "    }\n",
              "\n",
              "    .dataframe tbody tr th {\n",
              "        vertical-align: top;\n",
              "    }\n",
              "\n",
              "    .dataframe thead th {\n",
              "        text-align: right;\n",
              "    }\n",
              "</style>\n",
              "<table border=\"1\" class=\"dataframe\">\n",
              "  <thead>\n",
              "    <tr style=\"text-align: right;\">\n",
              "      <th></th>\n",
              "      <th>count</th>\n",
              "    </tr>\n",
              "    <tr>\n",
              "      <th>Churn</th>\n",
              "      <th></th>\n",
              "    </tr>\n",
              "  </thead>\n",
              "  <tbody>\n",
              "    <tr>\n",
              "      <th>False</th>\n",
              "      <td>5174</td>\n",
              "    </tr>\n",
              "    <tr>\n",
              "      <th>True</th>\n",
              "      <td>1869</td>\n",
              "    </tr>\n",
              "  </tbody>\n",
              "</table>\n",
              "</div><br><label><b>dtype:</b> int64</label>"
            ]
          },
          "metadata": {},
          "execution_count": 93
        }
      ]
    },
    {
      "cell_type": "markdown",
      "source": [
        "**Conferindo os dados do Data Frame**"
      ],
      "metadata": {
        "id": "e6g6Hjqz9htD"
      }
    },
    {
      "cell_type": "code",
      "source": [
        "df_merged.head()"
      ],
      "metadata": {
        "colab": {
          "base_uri": "https://localhost:8080/",
          "height": 342
        },
        "id": "QMiydH3U2kLt",
        "outputId": "79af5f58-0050-4fb9-c53e-62f0747bf80b"
      },
      "execution_count": 106,
      "outputs": [
        {
          "output_type": "execute_result",
          "data": {
            "text/plain": [
              "   customerID  Churn  gender  SeniorCitizen  Partner  Dependents  tenure  \\\n",
              "0  0002-ORFBO  False  Female          False     True        True       9   \n",
              "1  0003-MKNFE  False    Male          False    False       False       9   \n",
              "2  0004-TLHLJ   True    Male          False    False       False       4   \n",
              "3  0011-IGKFF   True    Male           True     True       False      13   \n",
              "4  0013-EXCHZ   True  Female           True     True       False       3   \n",
              "\n",
              "   PhoneService  MultipleLines InternetService  ...  OnlineBackup  \\\n",
              "0          True          False             DSL  ...          True   \n",
              "1          True           True             DSL  ...         False   \n",
              "2          True          False     Fiber optic  ...         False   \n",
              "3          True          False     Fiber optic  ...          True   \n",
              "4          True          False     Fiber optic  ...         False   \n",
              "\n",
              "   DeviceProtection  TechSupport  StreamingTV  StreamingMovies  \\\n",
              "0             False         True         True            False   \n",
              "1             False        False        False             True   \n",
              "2              True        False        False            False   \n",
              "3              True        False         True             True   \n",
              "4             False         True         True            False   \n",
              "\n",
              "         Contract PaperlessBilling     PaymentMethod Monthly    Total  \n",
              "0        One year             True      Mailed check    65.6   593.30  \n",
              "1  Month-to-month            False      Mailed check    59.9   542.40  \n",
              "2  Month-to-month             True  Electronic check    73.9   280.85  \n",
              "3  Month-to-month             True  Electronic check    98.0  1237.85  \n",
              "4  Month-to-month             True      Mailed check    83.9   267.40  \n",
              "\n",
              "[5 rows x 21 columns]"
            ],
            "text/html": [
              "\n",
              "  <div id=\"df-6c810aef-4134-4f9b-8d1e-3f8f3793ec06\" class=\"colab-df-container\">\n",
              "    <div>\n",
              "<style scoped>\n",
              "    .dataframe tbody tr th:only-of-type {\n",
              "        vertical-align: middle;\n",
              "    }\n",
              "\n",
              "    .dataframe tbody tr th {\n",
              "        vertical-align: top;\n",
              "    }\n",
              "\n",
              "    .dataframe thead th {\n",
              "        text-align: right;\n",
              "    }\n",
              "</style>\n",
              "<table border=\"1\" class=\"dataframe\">\n",
              "  <thead>\n",
              "    <tr style=\"text-align: right;\">\n",
              "      <th></th>\n",
              "      <th>customerID</th>\n",
              "      <th>Churn</th>\n",
              "      <th>gender</th>\n",
              "      <th>SeniorCitizen</th>\n",
              "      <th>Partner</th>\n",
              "      <th>Dependents</th>\n",
              "      <th>tenure</th>\n",
              "      <th>PhoneService</th>\n",
              "      <th>MultipleLines</th>\n",
              "      <th>InternetService</th>\n",
              "      <th>...</th>\n",
              "      <th>OnlineBackup</th>\n",
              "      <th>DeviceProtection</th>\n",
              "      <th>TechSupport</th>\n",
              "      <th>StreamingTV</th>\n",
              "      <th>StreamingMovies</th>\n",
              "      <th>Contract</th>\n",
              "      <th>PaperlessBilling</th>\n",
              "      <th>PaymentMethod</th>\n",
              "      <th>Monthly</th>\n",
              "      <th>Total</th>\n",
              "    </tr>\n",
              "  </thead>\n",
              "  <tbody>\n",
              "    <tr>\n",
              "      <th>0</th>\n",
              "      <td>0002-ORFBO</td>\n",
              "      <td>False</td>\n",
              "      <td>Female</td>\n",
              "      <td>False</td>\n",
              "      <td>True</td>\n",
              "      <td>True</td>\n",
              "      <td>9</td>\n",
              "      <td>True</td>\n",
              "      <td>False</td>\n",
              "      <td>DSL</td>\n",
              "      <td>...</td>\n",
              "      <td>True</td>\n",
              "      <td>False</td>\n",
              "      <td>True</td>\n",
              "      <td>True</td>\n",
              "      <td>False</td>\n",
              "      <td>One year</td>\n",
              "      <td>True</td>\n",
              "      <td>Mailed check</td>\n",
              "      <td>65.6</td>\n",
              "      <td>593.30</td>\n",
              "    </tr>\n",
              "    <tr>\n",
              "      <th>1</th>\n",
              "      <td>0003-MKNFE</td>\n",
              "      <td>False</td>\n",
              "      <td>Male</td>\n",
              "      <td>False</td>\n",
              "      <td>False</td>\n",
              "      <td>False</td>\n",
              "      <td>9</td>\n",
              "      <td>True</td>\n",
              "      <td>True</td>\n",
              "      <td>DSL</td>\n",
              "      <td>...</td>\n",
              "      <td>False</td>\n",
              "      <td>False</td>\n",
              "      <td>False</td>\n",
              "      <td>False</td>\n",
              "      <td>True</td>\n",
              "      <td>Month-to-month</td>\n",
              "      <td>False</td>\n",
              "      <td>Mailed check</td>\n",
              "      <td>59.9</td>\n",
              "      <td>542.40</td>\n",
              "    </tr>\n",
              "    <tr>\n",
              "      <th>2</th>\n",
              "      <td>0004-TLHLJ</td>\n",
              "      <td>True</td>\n",
              "      <td>Male</td>\n",
              "      <td>False</td>\n",
              "      <td>False</td>\n",
              "      <td>False</td>\n",
              "      <td>4</td>\n",
              "      <td>True</td>\n",
              "      <td>False</td>\n",
              "      <td>Fiber optic</td>\n",
              "      <td>...</td>\n",
              "      <td>False</td>\n",
              "      <td>True</td>\n",
              "      <td>False</td>\n",
              "      <td>False</td>\n",
              "      <td>False</td>\n",
              "      <td>Month-to-month</td>\n",
              "      <td>True</td>\n",
              "      <td>Electronic check</td>\n",
              "      <td>73.9</td>\n",
              "      <td>280.85</td>\n",
              "    </tr>\n",
              "    <tr>\n",
              "      <th>3</th>\n",
              "      <td>0011-IGKFF</td>\n",
              "      <td>True</td>\n",
              "      <td>Male</td>\n",
              "      <td>True</td>\n",
              "      <td>True</td>\n",
              "      <td>False</td>\n",
              "      <td>13</td>\n",
              "      <td>True</td>\n",
              "      <td>False</td>\n",
              "      <td>Fiber optic</td>\n",
              "      <td>...</td>\n",
              "      <td>True</td>\n",
              "      <td>True</td>\n",
              "      <td>False</td>\n",
              "      <td>True</td>\n",
              "      <td>True</td>\n",
              "      <td>Month-to-month</td>\n",
              "      <td>True</td>\n",
              "      <td>Electronic check</td>\n",
              "      <td>98.0</td>\n",
              "      <td>1237.85</td>\n",
              "    </tr>\n",
              "    <tr>\n",
              "      <th>4</th>\n",
              "      <td>0013-EXCHZ</td>\n",
              "      <td>True</td>\n",
              "      <td>Female</td>\n",
              "      <td>True</td>\n",
              "      <td>True</td>\n",
              "      <td>False</td>\n",
              "      <td>3</td>\n",
              "      <td>True</td>\n",
              "      <td>False</td>\n",
              "      <td>Fiber optic</td>\n",
              "      <td>...</td>\n",
              "      <td>False</td>\n",
              "      <td>False</td>\n",
              "      <td>True</td>\n",
              "      <td>True</td>\n",
              "      <td>False</td>\n",
              "      <td>Month-to-month</td>\n",
              "      <td>True</td>\n",
              "      <td>Mailed check</td>\n",
              "      <td>83.9</td>\n",
              "      <td>267.40</td>\n",
              "    </tr>\n",
              "  </tbody>\n",
              "</table>\n",
              "<p>5 rows × 21 columns</p>\n",
              "</div>\n",
              "    <div class=\"colab-df-buttons\">\n",
              "\n",
              "  <div class=\"colab-df-container\">\n",
              "    <button class=\"colab-df-convert\" onclick=\"convertToInteractive('df-6c810aef-4134-4f9b-8d1e-3f8f3793ec06')\"\n",
              "            title=\"Convert this dataframe to an interactive table.\"\n",
              "            style=\"display:none;\">\n",
              "\n",
              "  <svg xmlns=\"http://www.w3.org/2000/svg\" height=\"24px\" viewBox=\"0 -960 960 960\">\n",
              "    <path d=\"M120-120v-720h720v720H120Zm60-500h600v-160H180v160Zm220 220h160v-160H400v160Zm0 220h160v-160H400v160ZM180-400h160v-160H180v160Zm440 0h160v-160H620v160ZM180-180h160v-160H180v160Zm440 0h160v-160H620v160Z\"/>\n",
              "  </svg>\n",
              "    </button>\n",
              "\n",
              "  <style>\n",
              "    .colab-df-container {\n",
              "      display:flex;\n",
              "      gap: 12px;\n",
              "    }\n",
              "\n",
              "    .colab-df-convert {\n",
              "      background-color: #E8F0FE;\n",
              "      border: none;\n",
              "      border-radius: 50%;\n",
              "      cursor: pointer;\n",
              "      display: none;\n",
              "      fill: #1967D2;\n",
              "      height: 32px;\n",
              "      padding: 0 0 0 0;\n",
              "      width: 32px;\n",
              "    }\n",
              "\n",
              "    .colab-df-convert:hover {\n",
              "      background-color: #E2EBFA;\n",
              "      box-shadow: 0px 1px 2px rgba(60, 64, 67, 0.3), 0px 1px 3px 1px rgba(60, 64, 67, 0.15);\n",
              "      fill: #174EA6;\n",
              "    }\n",
              "\n",
              "    .colab-df-buttons div {\n",
              "      margin-bottom: 4px;\n",
              "    }\n",
              "\n",
              "    [theme=dark] .colab-df-convert {\n",
              "      background-color: #3B4455;\n",
              "      fill: #D2E3FC;\n",
              "    }\n",
              "\n",
              "    [theme=dark] .colab-df-convert:hover {\n",
              "      background-color: #434B5C;\n",
              "      box-shadow: 0px 1px 3px 1px rgba(0, 0, 0, 0.15);\n",
              "      filter: drop-shadow(0px 1px 2px rgba(0, 0, 0, 0.3));\n",
              "      fill: #FFFFFF;\n",
              "    }\n",
              "  </style>\n",
              "\n",
              "    <script>\n",
              "      const buttonEl =\n",
              "        document.querySelector('#df-6c810aef-4134-4f9b-8d1e-3f8f3793ec06 button.colab-df-convert');\n",
              "      buttonEl.style.display =\n",
              "        google.colab.kernel.accessAllowed ? 'block' : 'none';\n",
              "\n",
              "      async function convertToInteractive(key) {\n",
              "        const element = document.querySelector('#df-6c810aef-4134-4f9b-8d1e-3f8f3793ec06');\n",
              "        const dataTable =\n",
              "          await google.colab.kernel.invokeFunction('convertToInteractive',\n",
              "                                                    [key], {});\n",
              "        if (!dataTable) return;\n",
              "\n",
              "        const docLinkHtml = 'Like what you see? Visit the ' +\n",
              "          '<a target=\"_blank\" href=https://colab.research.google.com/notebooks/data_table.ipynb>data table notebook</a>'\n",
              "          + ' to learn more about interactive tables.';\n",
              "        element.innerHTML = '';\n",
              "        dataTable['output_type'] = 'display_data';\n",
              "        await google.colab.output.renderOutput(dataTable, element);\n",
              "        const docLink = document.createElement('div');\n",
              "        docLink.innerHTML = docLinkHtml;\n",
              "        element.appendChild(docLink);\n",
              "      }\n",
              "    </script>\n",
              "  </div>\n",
              "\n",
              "\n",
              "    <div id=\"df-5806d2f7-fbc8-42e8-955d-8c295aa30109\">\n",
              "      <button class=\"colab-df-quickchart\" onclick=\"quickchart('df-5806d2f7-fbc8-42e8-955d-8c295aa30109')\"\n",
              "                title=\"Suggest charts\"\n",
              "                style=\"display:none;\">\n",
              "\n",
              "<svg xmlns=\"http://www.w3.org/2000/svg\" height=\"24px\"viewBox=\"0 0 24 24\"\n",
              "     width=\"24px\">\n",
              "    <g>\n",
              "        <path d=\"M19 3H5c-1.1 0-2 .9-2 2v14c0 1.1.9 2 2 2h14c1.1 0 2-.9 2-2V5c0-1.1-.9-2-2-2zM9 17H7v-7h2v7zm4 0h-2V7h2v10zm4 0h-2v-4h2v4z\"/>\n",
              "    </g>\n",
              "</svg>\n",
              "      </button>\n",
              "\n",
              "<style>\n",
              "  .colab-df-quickchart {\n",
              "      --bg-color: #E8F0FE;\n",
              "      --fill-color: #1967D2;\n",
              "      --hover-bg-color: #E2EBFA;\n",
              "      --hover-fill-color: #174EA6;\n",
              "      --disabled-fill-color: #AAA;\n",
              "      --disabled-bg-color: #DDD;\n",
              "  }\n",
              "\n",
              "  [theme=dark] .colab-df-quickchart {\n",
              "      --bg-color: #3B4455;\n",
              "      --fill-color: #D2E3FC;\n",
              "      --hover-bg-color: #434B5C;\n",
              "      --hover-fill-color: #FFFFFF;\n",
              "      --disabled-bg-color: #3B4455;\n",
              "      --disabled-fill-color: #666;\n",
              "  }\n",
              "\n",
              "  .colab-df-quickchart {\n",
              "    background-color: var(--bg-color);\n",
              "    border: none;\n",
              "    border-radius: 50%;\n",
              "    cursor: pointer;\n",
              "    display: none;\n",
              "    fill: var(--fill-color);\n",
              "    height: 32px;\n",
              "    padding: 0;\n",
              "    width: 32px;\n",
              "  }\n",
              "\n",
              "  .colab-df-quickchart:hover {\n",
              "    background-color: var(--hover-bg-color);\n",
              "    box-shadow: 0 1px 2px rgba(60, 64, 67, 0.3), 0 1px 3px 1px rgba(60, 64, 67, 0.15);\n",
              "    fill: var(--button-hover-fill-color);\n",
              "  }\n",
              "\n",
              "  .colab-df-quickchart-complete:disabled,\n",
              "  .colab-df-quickchart-complete:disabled:hover {\n",
              "    background-color: var(--disabled-bg-color);\n",
              "    fill: var(--disabled-fill-color);\n",
              "    box-shadow: none;\n",
              "  }\n",
              "\n",
              "  .colab-df-spinner {\n",
              "    border: 2px solid var(--fill-color);\n",
              "    border-color: transparent;\n",
              "    border-bottom-color: var(--fill-color);\n",
              "    animation:\n",
              "      spin 1s steps(1) infinite;\n",
              "  }\n",
              "\n",
              "  @keyframes spin {\n",
              "    0% {\n",
              "      border-color: transparent;\n",
              "      border-bottom-color: var(--fill-color);\n",
              "      border-left-color: var(--fill-color);\n",
              "    }\n",
              "    20% {\n",
              "      border-color: transparent;\n",
              "      border-left-color: var(--fill-color);\n",
              "      border-top-color: var(--fill-color);\n",
              "    }\n",
              "    30% {\n",
              "      border-color: transparent;\n",
              "      border-left-color: var(--fill-color);\n",
              "      border-top-color: var(--fill-color);\n",
              "      border-right-color: var(--fill-color);\n",
              "    }\n",
              "    40% {\n",
              "      border-color: transparent;\n",
              "      border-right-color: var(--fill-color);\n",
              "      border-top-color: var(--fill-color);\n",
              "    }\n",
              "    60% {\n",
              "      border-color: transparent;\n",
              "      border-right-color: var(--fill-color);\n",
              "    }\n",
              "    80% {\n",
              "      border-color: transparent;\n",
              "      border-right-color: var(--fill-color);\n",
              "      border-bottom-color: var(--fill-color);\n",
              "    }\n",
              "    90% {\n",
              "      border-color: transparent;\n",
              "      border-bottom-color: var(--fill-color);\n",
              "    }\n",
              "  }\n",
              "</style>\n",
              "\n",
              "      <script>\n",
              "        async function quickchart(key) {\n",
              "          const quickchartButtonEl =\n",
              "            document.querySelector('#' + key + ' button');\n",
              "          quickchartButtonEl.disabled = true;  // To prevent multiple clicks.\n",
              "          quickchartButtonEl.classList.add('colab-df-spinner');\n",
              "          try {\n",
              "            const charts = await google.colab.kernel.invokeFunction(\n",
              "                'suggestCharts', [key], {});\n",
              "          } catch (error) {\n",
              "            console.error('Error during call to suggestCharts:', error);\n",
              "          }\n",
              "          quickchartButtonEl.classList.remove('colab-df-spinner');\n",
              "          quickchartButtonEl.classList.add('colab-df-quickchart-complete');\n",
              "        }\n",
              "        (() => {\n",
              "          let quickchartButtonEl =\n",
              "            document.querySelector('#df-5806d2f7-fbc8-42e8-955d-8c295aa30109 button');\n",
              "          quickchartButtonEl.style.display =\n",
              "            google.colab.kernel.accessAllowed ? 'block' : 'none';\n",
              "        })();\n",
              "      </script>\n",
              "    </div>\n",
              "\n",
              "    </div>\n",
              "  </div>\n"
            ],
            "application/vnd.google.colaboratory.intrinsic+json": {
              "type": "dataframe",
              "variable_name": "df_merged"
            }
          },
          "metadata": {},
          "execution_count": 106
        }
      ]
    },
    {
      "cell_type": "markdown",
      "source": [
        "***Corrigindo os valores da Coluna MultipleLines que também estava com valores 'No phone service\"***"
      ],
      "metadata": {
        "id": "LSOeepcG38Zs"
      }
    },
    {
      "cell_type": "code",
      "source": [
        "df_merged['MultipleLines'] = df_merged['MultipleLines'].replace({'No phone service': False})\n",
        "\n",
        "print(df_merged['MultipleLines'].unique())"
      ],
      "metadata": {
        "colab": {
          "base_uri": "https://localhost:8080/"
        },
        "id": "pHRos7tLt9_E",
        "outputId": "84d4adad-08e3-420e-e966-9d89c920d5db"
      },
      "execution_count": 108,
      "outputs": [
        {
          "output_type": "stream",
          "name": "stdout",
          "text": [
            "[False  True]\n"
          ]
        }
      ]
    },
    {
      "cell_type": "markdown",
      "source": [
        "***Corrigindo os valores das Colunas OnlineSecurity, OnlineBackup, DeviceProtection, TechSupport, StreamingTV, StreamingMovies que apresentam valor 'No internet service'***"
      ],
      "metadata": {
        "id": "4TuF_e5ulVoW"
      }
    },
    {
      "cell_type": "code",
      "source": [
        "columns_to_transform_internet = [\n",
        "    'OnlineSecurity', 'OnlineBackup', 'DeviceProtection', 'TechSupport',\n",
        "    'StreamingTV', 'StreamingMovies'\n",
        "]\n",
        "\n",
        "for col in columns_to_transform_internet:\n",
        "    df_merged[col] = df_merged[col].replace({'No internet service': False})\n",
        "\n",
        "print(df_merged[columns_to_transform_internet].head())\n",
        "for col in columns_to_transform_internet:\n",
        "    print(df_merged[col].unique())"
      ],
      "metadata": {
        "colab": {
          "base_uri": "https://localhost:8080/"
        },
        "id": "ip2S6ylwuWqM",
        "outputId": "430f4294-957e-40dd-e8ef-6a70435adad4"
      },
      "execution_count": 96,
      "outputs": [
        {
          "output_type": "stream",
          "name": "stderr",
          "text": [
            "/tmp/ipython-input-96-2675950398.py:7: FutureWarning: Downcasting behavior in `replace` is deprecated and will be removed in a future version. To retain the old behavior, explicitly call `result.infer_objects(copy=False)`. To opt-in to the future behavior, set `pd.set_option('future.no_silent_downcasting', True)`\n",
            "  df_merged[col] = df_merged[col].replace({'No internet service': False})\n"
          ]
        },
        {
          "output_type": "stream",
          "name": "stdout",
          "text": [
            "   OnlineSecurity  OnlineBackup  DeviceProtection  TechSupport  StreamingTV  \\\n",
            "0           False          True             False         True         True   \n",
            "1           False         False             False        False        False   \n",
            "2           False         False              True        False        False   \n",
            "3           False          True              True        False         True   \n",
            "4           False         False             False         True         True   \n",
            "\n",
            "   StreamingMovies  \n",
            "0            False  \n",
            "1             True  \n",
            "2            False  \n",
            "3             True  \n",
            "4            False  \n",
            "[False  True]\n",
            "[ True False]\n",
            "[False  True]\n",
            "[ True False]\n",
            "[ True False]\n",
            "[False  True]\n"
          ]
        }
      ]
    },
    {
      "cell_type": "markdown",
      "source": [
        "**Checando novamente se todas colunas estão corretas com True e False**"
      ],
      "metadata": {
        "id": "8NNXI0Dz4yek"
      }
    },
    {
      "cell_type": "code",
      "source": [
        "columns_to_check = [\n",
        "    'Churn', 'SeniorCitizen', 'Partner', 'Dependents', 'PhoneService',\n",
        "    'MultipleLines', 'OnlineSecurity', 'OnlineBackup', 'DeviceProtection',\n",
        "    'TechSupport', 'StreamingTV', 'StreamingMovies', 'PaperlessBilling'\n",
        "]\n",
        "\n",
        "for col in columns_to_check:\n",
        "    if not all(df_merged[col].isin([True, False])):\n",
        "        print(f\"Coluna '{col}' contém valores diferentes de True ou False.\")\n",
        "        print(df_merged[col].unique())\n",
        "    else:\n",
        "        print(f\"Coluna '{col}' está correta.\")"
      ],
      "metadata": {
        "colab": {
          "base_uri": "https://localhost:8080/"
        },
        "id": "mNjFqRts4y8D",
        "outputId": "548908c6-4bf0-4170-b997-c9b0da89b7ac"
      },
      "execution_count": 97,
      "outputs": [
        {
          "output_type": "stream",
          "name": "stdout",
          "text": [
            "Coluna 'Churn' está correta.\n",
            "Coluna 'SeniorCitizen' está correta.\n",
            "Coluna 'Partner' está correta.\n",
            "Coluna 'Dependents' está correta.\n",
            "Coluna 'PhoneService' está correta.\n",
            "Coluna 'MultipleLines' está correta.\n",
            "Coluna 'OnlineSecurity' está correta.\n",
            "Coluna 'OnlineBackup' está correta.\n",
            "Coluna 'DeviceProtection' está correta.\n",
            "Coluna 'TechSupport' está correta.\n",
            "Coluna 'StreamingTV' está correta.\n",
            "Coluna 'StreamingMovies' está correta.\n",
            "Coluna 'PaperlessBilling' está correta.\n"
          ]
        }
      ]
    },
    {
      "cell_type": "markdown",
      "source": [
        "***Checando o tipo dos dados***"
      ],
      "metadata": {
        "id": "Lq9-PprYqnaN"
      }
    },
    {
      "cell_type": "code",
      "source": [
        "df_merged.dtypes"
      ],
      "metadata": {
        "colab": {
          "base_uri": "https://localhost:8080/",
          "height": 742
        },
        "id": "xcCEuLP7u29c",
        "outputId": "62df2799-71b2-4d1a-81a3-b6acfc832425"
      },
      "execution_count": 98,
      "outputs": [
        {
          "output_type": "execute_result",
          "data": {
            "text/plain": [
              "customerID           object\n",
              "Churn                object\n",
              "gender               object\n",
              "SeniorCitizen          bool\n",
              "Partner                bool\n",
              "Dependents             bool\n",
              "tenure                int64\n",
              "PhoneService           bool\n",
              "MultipleLines          bool\n",
              "InternetService      object\n",
              "OnlineSecurity         bool\n",
              "OnlineBackup           bool\n",
              "DeviceProtection       bool\n",
              "TechSupport            bool\n",
              "StreamingTV            bool\n",
              "StreamingMovies        bool\n",
              "Contract             object\n",
              "PaperlessBilling       bool\n",
              "PaymentMethod        object\n",
              "Monthly             float64\n",
              "Total               float64\n",
              "dtype: object"
            ],
            "text/html": [
              "<div>\n",
              "<style scoped>\n",
              "    .dataframe tbody tr th:only-of-type {\n",
              "        vertical-align: middle;\n",
              "    }\n",
              "\n",
              "    .dataframe tbody tr th {\n",
              "        vertical-align: top;\n",
              "    }\n",
              "\n",
              "    .dataframe thead th {\n",
              "        text-align: right;\n",
              "    }\n",
              "</style>\n",
              "<table border=\"1\" class=\"dataframe\">\n",
              "  <thead>\n",
              "    <tr style=\"text-align: right;\">\n",
              "      <th></th>\n",
              "      <th>0</th>\n",
              "    </tr>\n",
              "  </thead>\n",
              "  <tbody>\n",
              "    <tr>\n",
              "      <th>customerID</th>\n",
              "      <td>object</td>\n",
              "    </tr>\n",
              "    <tr>\n",
              "      <th>Churn</th>\n",
              "      <td>object</td>\n",
              "    </tr>\n",
              "    <tr>\n",
              "      <th>gender</th>\n",
              "      <td>object</td>\n",
              "    </tr>\n",
              "    <tr>\n",
              "      <th>SeniorCitizen</th>\n",
              "      <td>bool</td>\n",
              "    </tr>\n",
              "    <tr>\n",
              "      <th>Partner</th>\n",
              "      <td>bool</td>\n",
              "    </tr>\n",
              "    <tr>\n",
              "      <th>Dependents</th>\n",
              "      <td>bool</td>\n",
              "    </tr>\n",
              "    <tr>\n",
              "      <th>tenure</th>\n",
              "      <td>int64</td>\n",
              "    </tr>\n",
              "    <tr>\n",
              "      <th>PhoneService</th>\n",
              "      <td>bool</td>\n",
              "    </tr>\n",
              "    <tr>\n",
              "      <th>MultipleLines</th>\n",
              "      <td>bool</td>\n",
              "    </tr>\n",
              "    <tr>\n",
              "      <th>InternetService</th>\n",
              "      <td>object</td>\n",
              "    </tr>\n",
              "    <tr>\n",
              "      <th>OnlineSecurity</th>\n",
              "      <td>bool</td>\n",
              "    </tr>\n",
              "    <tr>\n",
              "      <th>OnlineBackup</th>\n",
              "      <td>bool</td>\n",
              "    </tr>\n",
              "    <tr>\n",
              "      <th>DeviceProtection</th>\n",
              "      <td>bool</td>\n",
              "    </tr>\n",
              "    <tr>\n",
              "      <th>TechSupport</th>\n",
              "      <td>bool</td>\n",
              "    </tr>\n",
              "    <tr>\n",
              "      <th>StreamingTV</th>\n",
              "      <td>bool</td>\n",
              "    </tr>\n",
              "    <tr>\n",
              "      <th>StreamingMovies</th>\n",
              "      <td>bool</td>\n",
              "    </tr>\n",
              "    <tr>\n",
              "      <th>Contract</th>\n",
              "      <td>object</td>\n",
              "    </tr>\n",
              "    <tr>\n",
              "      <th>PaperlessBilling</th>\n",
              "      <td>bool</td>\n",
              "    </tr>\n",
              "    <tr>\n",
              "      <th>PaymentMethod</th>\n",
              "      <td>object</td>\n",
              "    </tr>\n",
              "    <tr>\n",
              "      <th>Monthly</th>\n",
              "      <td>float64</td>\n",
              "    </tr>\n",
              "    <tr>\n",
              "      <th>Total</th>\n",
              "      <td>float64</td>\n",
              "    </tr>\n",
              "  </tbody>\n",
              "</table>\n",
              "</div><br><label><b>dtype:</b> object</label>"
            ]
          },
          "metadata": {},
          "execution_count": 98
        }
      ]
    },
    {
      "cell_type": "markdown",
      "source": [
        "***Passando os dados da coluna Churn para booleano***"
      ],
      "metadata": {
        "id": "2j4KPvd8SwdM"
      }
    },
    {
      "cell_type": "code",
      "source": [
        "df_merged['Churn'] = df_merged['Churn'].astype(bool)\n",
        "\n",
        "print(df_merged['Churn'].head())\n",
        "df_merged.dtypes\n"
      ],
      "metadata": {
        "colab": {
          "base_uri": "https://localhost:8080/",
          "height": 853
        },
        "id": "l3W88spEh7WH",
        "outputId": "ab86604a-c359-4076-a972-ebac069f676e"
      },
      "execution_count": 99,
      "outputs": [
        {
          "output_type": "stream",
          "name": "stdout",
          "text": [
            "0    False\n",
            "1    False\n",
            "2     True\n",
            "3     True\n",
            "4     True\n",
            "Name: Churn, dtype: bool\n"
          ]
        },
        {
          "output_type": "execute_result",
          "data": {
            "text/plain": [
              "customerID           object\n",
              "Churn                  bool\n",
              "gender               object\n",
              "SeniorCitizen          bool\n",
              "Partner                bool\n",
              "Dependents             bool\n",
              "tenure                int64\n",
              "PhoneService           bool\n",
              "MultipleLines          bool\n",
              "InternetService      object\n",
              "OnlineSecurity         bool\n",
              "OnlineBackup           bool\n",
              "DeviceProtection       bool\n",
              "TechSupport            bool\n",
              "StreamingTV            bool\n",
              "StreamingMovies        bool\n",
              "Contract             object\n",
              "PaperlessBilling       bool\n",
              "PaymentMethod        object\n",
              "Monthly             float64\n",
              "Total               float64\n",
              "dtype: object"
            ],
            "text/html": [
              "<div>\n",
              "<style scoped>\n",
              "    .dataframe tbody tr th:only-of-type {\n",
              "        vertical-align: middle;\n",
              "    }\n",
              "\n",
              "    .dataframe tbody tr th {\n",
              "        vertical-align: top;\n",
              "    }\n",
              "\n",
              "    .dataframe thead th {\n",
              "        text-align: right;\n",
              "    }\n",
              "</style>\n",
              "<table border=\"1\" class=\"dataframe\">\n",
              "  <thead>\n",
              "    <tr style=\"text-align: right;\">\n",
              "      <th></th>\n",
              "      <th>0</th>\n",
              "    </tr>\n",
              "  </thead>\n",
              "  <tbody>\n",
              "    <tr>\n",
              "      <th>customerID</th>\n",
              "      <td>object</td>\n",
              "    </tr>\n",
              "    <tr>\n",
              "      <th>Churn</th>\n",
              "      <td>bool</td>\n",
              "    </tr>\n",
              "    <tr>\n",
              "      <th>gender</th>\n",
              "      <td>object</td>\n",
              "    </tr>\n",
              "    <tr>\n",
              "      <th>SeniorCitizen</th>\n",
              "      <td>bool</td>\n",
              "    </tr>\n",
              "    <tr>\n",
              "      <th>Partner</th>\n",
              "      <td>bool</td>\n",
              "    </tr>\n",
              "    <tr>\n",
              "      <th>Dependents</th>\n",
              "      <td>bool</td>\n",
              "    </tr>\n",
              "    <tr>\n",
              "      <th>tenure</th>\n",
              "      <td>int64</td>\n",
              "    </tr>\n",
              "    <tr>\n",
              "      <th>PhoneService</th>\n",
              "      <td>bool</td>\n",
              "    </tr>\n",
              "    <tr>\n",
              "      <th>MultipleLines</th>\n",
              "      <td>bool</td>\n",
              "    </tr>\n",
              "    <tr>\n",
              "      <th>InternetService</th>\n",
              "      <td>object</td>\n",
              "    </tr>\n",
              "    <tr>\n",
              "      <th>OnlineSecurity</th>\n",
              "      <td>bool</td>\n",
              "    </tr>\n",
              "    <tr>\n",
              "      <th>OnlineBackup</th>\n",
              "      <td>bool</td>\n",
              "    </tr>\n",
              "    <tr>\n",
              "      <th>DeviceProtection</th>\n",
              "      <td>bool</td>\n",
              "    </tr>\n",
              "    <tr>\n",
              "      <th>TechSupport</th>\n",
              "      <td>bool</td>\n",
              "    </tr>\n",
              "    <tr>\n",
              "      <th>StreamingTV</th>\n",
              "      <td>bool</td>\n",
              "    </tr>\n",
              "    <tr>\n",
              "      <th>StreamingMovies</th>\n",
              "      <td>bool</td>\n",
              "    </tr>\n",
              "    <tr>\n",
              "      <th>Contract</th>\n",
              "      <td>object</td>\n",
              "    </tr>\n",
              "    <tr>\n",
              "      <th>PaperlessBilling</th>\n",
              "      <td>bool</td>\n",
              "    </tr>\n",
              "    <tr>\n",
              "      <th>PaymentMethod</th>\n",
              "      <td>object</td>\n",
              "    </tr>\n",
              "    <tr>\n",
              "      <th>Monthly</th>\n",
              "      <td>float64</td>\n",
              "    </tr>\n",
              "    <tr>\n",
              "      <th>Total</th>\n",
              "      <td>float64</td>\n",
              "    </tr>\n",
              "  </tbody>\n",
              "</table>\n",
              "</div><br><label><b>dtype:</b> object</label>"
            ]
          },
          "metadata": {},
          "execution_count": 99
        }
      ]
    },
    {
      "cell_type": "markdown",
      "source": [
        "**Aprovação dos Dados**"
      ],
      "metadata": {
        "id": "daZ7yKE9-rV8"
      }
    },
    {
      "cell_type": "code",
      "source": [
        "df_merged.head()"
      ],
      "metadata": {
        "id": "o2LaVyItDdv5",
        "colab": {
          "base_uri": "https://localhost:8080/",
          "height": 342
        },
        "outputId": "f48781f8-2ca5-4185-ae4c-a833d6984b8c"
      },
      "execution_count": 100,
      "outputs": [
        {
          "output_type": "execute_result",
          "data": {
            "text/plain": [
              "   customerID  Churn  gender  SeniorCitizen  Partner  Dependents  tenure  \\\n",
              "0  0002-ORFBO  False  Female          False     True        True       9   \n",
              "1  0003-MKNFE  False    Male          False    False       False       9   \n",
              "2  0004-TLHLJ   True    Male          False    False       False       4   \n",
              "3  0011-IGKFF   True    Male           True     True       False      13   \n",
              "4  0013-EXCHZ   True  Female           True     True       False       3   \n",
              "\n",
              "   PhoneService  MultipleLines InternetService  ...  OnlineBackup  \\\n",
              "0          True          False             DSL  ...          True   \n",
              "1          True           True             DSL  ...         False   \n",
              "2          True          False     Fiber optic  ...         False   \n",
              "3          True          False     Fiber optic  ...          True   \n",
              "4          True          False     Fiber optic  ...         False   \n",
              "\n",
              "   DeviceProtection  TechSupport  StreamingTV  StreamingMovies  \\\n",
              "0             False         True         True            False   \n",
              "1             False        False        False             True   \n",
              "2              True        False        False            False   \n",
              "3              True        False         True             True   \n",
              "4             False         True         True            False   \n",
              "\n",
              "         Contract PaperlessBilling     PaymentMethod Monthly    Total  \n",
              "0        One year             True      Mailed check    65.6   593.30  \n",
              "1  Month-to-month            False      Mailed check    59.9   542.40  \n",
              "2  Month-to-month             True  Electronic check    73.9   280.85  \n",
              "3  Month-to-month             True  Electronic check    98.0  1237.85  \n",
              "4  Month-to-month             True      Mailed check    83.9   267.40  \n",
              "\n",
              "[5 rows x 21 columns]"
            ],
            "text/html": [
              "\n",
              "  <div id=\"df-35ab0f25-3af9-442f-81d7-0acb04259bdf\" class=\"colab-df-container\">\n",
              "    <div>\n",
              "<style scoped>\n",
              "    .dataframe tbody tr th:only-of-type {\n",
              "        vertical-align: middle;\n",
              "    }\n",
              "\n",
              "    .dataframe tbody tr th {\n",
              "        vertical-align: top;\n",
              "    }\n",
              "\n",
              "    .dataframe thead th {\n",
              "        text-align: right;\n",
              "    }\n",
              "</style>\n",
              "<table border=\"1\" class=\"dataframe\">\n",
              "  <thead>\n",
              "    <tr style=\"text-align: right;\">\n",
              "      <th></th>\n",
              "      <th>customerID</th>\n",
              "      <th>Churn</th>\n",
              "      <th>gender</th>\n",
              "      <th>SeniorCitizen</th>\n",
              "      <th>Partner</th>\n",
              "      <th>Dependents</th>\n",
              "      <th>tenure</th>\n",
              "      <th>PhoneService</th>\n",
              "      <th>MultipleLines</th>\n",
              "      <th>InternetService</th>\n",
              "      <th>...</th>\n",
              "      <th>OnlineBackup</th>\n",
              "      <th>DeviceProtection</th>\n",
              "      <th>TechSupport</th>\n",
              "      <th>StreamingTV</th>\n",
              "      <th>StreamingMovies</th>\n",
              "      <th>Contract</th>\n",
              "      <th>PaperlessBilling</th>\n",
              "      <th>PaymentMethod</th>\n",
              "      <th>Monthly</th>\n",
              "      <th>Total</th>\n",
              "    </tr>\n",
              "  </thead>\n",
              "  <tbody>\n",
              "    <tr>\n",
              "      <th>0</th>\n",
              "      <td>0002-ORFBO</td>\n",
              "      <td>False</td>\n",
              "      <td>Female</td>\n",
              "      <td>False</td>\n",
              "      <td>True</td>\n",
              "      <td>True</td>\n",
              "      <td>9</td>\n",
              "      <td>True</td>\n",
              "      <td>False</td>\n",
              "      <td>DSL</td>\n",
              "      <td>...</td>\n",
              "      <td>True</td>\n",
              "      <td>False</td>\n",
              "      <td>True</td>\n",
              "      <td>True</td>\n",
              "      <td>False</td>\n",
              "      <td>One year</td>\n",
              "      <td>True</td>\n",
              "      <td>Mailed check</td>\n",
              "      <td>65.6</td>\n",
              "      <td>593.30</td>\n",
              "    </tr>\n",
              "    <tr>\n",
              "      <th>1</th>\n",
              "      <td>0003-MKNFE</td>\n",
              "      <td>False</td>\n",
              "      <td>Male</td>\n",
              "      <td>False</td>\n",
              "      <td>False</td>\n",
              "      <td>False</td>\n",
              "      <td>9</td>\n",
              "      <td>True</td>\n",
              "      <td>True</td>\n",
              "      <td>DSL</td>\n",
              "      <td>...</td>\n",
              "      <td>False</td>\n",
              "      <td>False</td>\n",
              "      <td>False</td>\n",
              "      <td>False</td>\n",
              "      <td>True</td>\n",
              "      <td>Month-to-month</td>\n",
              "      <td>False</td>\n",
              "      <td>Mailed check</td>\n",
              "      <td>59.9</td>\n",
              "      <td>542.40</td>\n",
              "    </tr>\n",
              "    <tr>\n",
              "      <th>2</th>\n",
              "      <td>0004-TLHLJ</td>\n",
              "      <td>True</td>\n",
              "      <td>Male</td>\n",
              "      <td>False</td>\n",
              "      <td>False</td>\n",
              "      <td>False</td>\n",
              "      <td>4</td>\n",
              "      <td>True</td>\n",
              "      <td>False</td>\n",
              "      <td>Fiber optic</td>\n",
              "      <td>...</td>\n",
              "      <td>False</td>\n",
              "      <td>True</td>\n",
              "      <td>False</td>\n",
              "      <td>False</td>\n",
              "      <td>False</td>\n",
              "      <td>Month-to-month</td>\n",
              "      <td>True</td>\n",
              "      <td>Electronic check</td>\n",
              "      <td>73.9</td>\n",
              "      <td>280.85</td>\n",
              "    </tr>\n",
              "    <tr>\n",
              "      <th>3</th>\n",
              "      <td>0011-IGKFF</td>\n",
              "      <td>True</td>\n",
              "      <td>Male</td>\n",
              "      <td>True</td>\n",
              "      <td>True</td>\n",
              "      <td>False</td>\n",
              "      <td>13</td>\n",
              "      <td>True</td>\n",
              "      <td>False</td>\n",
              "      <td>Fiber optic</td>\n",
              "      <td>...</td>\n",
              "      <td>True</td>\n",
              "      <td>True</td>\n",
              "      <td>False</td>\n",
              "      <td>True</td>\n",
              "      <td>True</td>\n",
              "      <td>Month-to-month</td>\n",
              "      <td>True</td>\n",
              "      <td>Electronic check</td>\n",
              "      <td>98.0</td>\n",
              "      <td>1237.85</td>\n",
              "    </tr>\n",
              "    <tr>\n",
              "      <th>4</th>\n",
              "      <td>0013-EXCHZ</td>\n",
              "      <td>True</td>\n",
              "      <td>Female</td>\n",
              "      <td>True</td>\n",
              "      <td>True</td>\n",
              "      <td>False</td>\n",
              "      <td>3</td>\n",
              "      <td>True</td>\n",
              "      <td>False</td>\n",
              "      <td>Fiber optic</td>\n",
              "      <td>...</td>\n",
              "      <td>False</td>\n",
              "      <td>False</td>\n",
              "      <td>True</td>\n",
              "      <td>True</td>\n",
              "      <td>False</td>\n",
              "      <td>Month-to-month</td>\n",
              "      <td>True</td>\n",
              "      <td>Mailed check</td>\n",
              "      <td>83.9</td>\n",
              "      <td>267.40</td>\n",
              "    </tr>\n",
              "  </tbody>\n",
              "</table>\n",
              "<p>5 rows × 21 columns</p>\n",
              "</div>\n",
              "    <div class=\"colab-df-buttons\">\n",
              "\n",
              "  <div class=\"colab-df-container\">\n",
              "    <button class=\"colab-df-convert\" onclick=\"convertToInteractive('df-35ab0f25-3af9-442f-81d7-0acb04259bdf')\"\n",
              "            title=\"Convert this dataframe to an interactive table.\"\n",
              "            style=\"display:none;\">\n",
              "\n",
              "  <svg xmlns=\"http://www.w3.org/2000/svg\" height=\"24px\" viewBox=\"0 -960 960 960\">\n",
              "    <path d=\"M120-120v-720h720v720H120Zm60-500h600v-160H180v160Zm220 220h160v-160H400v160Zm0 220h160v-160H400v160ZM180-400h160v-160H180v160Zm440 0h160v-160H620v160ZM180-180h160v-160H180v160Zm440 0h160v-160H620v160Z\"/>\n",
              "  </svg>\n",
              "    </button>\n",
              "\n",
              "  <style>\n",
              "    .colab-df-container {\n",
              "      display:flex;\n",
              "      gap: 12px;\n",
              "    }\n",
              "\n",
              "    .colab-df-convert {\n",
              "      background-color: #E8F0FE;\n",
              "      border: none;\n",
              "      border-radius: 50%;\n",
              "      cursor: pointer;\n",
              "      display: none;\n",
              "      fill: #1967D2;\n",
              "      height: 32px;\n",
              "      padding: 0 0 0 0;\n",
              "      width: 32px;\n",
              "    }\n",
              "\n",
              "    .colab-df-convert:hover {\n",
              "      background-color: #E2EBFA;\n",
              "      box-shadow: 0px 1px 2px rgba(60, 64, 67, 0.3), 0px 1px 3px 1px rgba(60, 64, 67, 0.15);\n",
              "      fill: #174EA6;\n",
              "    }\n",
              "\n",
              "    .colab-df-buttons div {\n",
              "      margin-bottom: 4px;\n",
              "    }\n",
              "\n",
              "    [theme=dark] .colab-df-convert {\n",
              "      background-color: #3B4455;\n",
              "      fill: #D2E3FC;\n",
              "    }\n",
              "\n",
              "    [theme=dark] .colab-df-convert:hover {\n",
              "      background-color: #434B5C;\n",
              "      box-shadow: 0px 1px 3px 1px rgba(0, 0, 0, 0.15);\n",
              "      filter: drop-shadow(0px 1px 2px rgba(0, 0, 0, 0.3));\n",
              "      fill: #FFFFFF;\n",
              "    }\n",
              "  </style>\n",
              "\n",
              "    <script>\n",
              "      const buttonEl =\n",
              "        document.querySelector('#df-35ab0f25-3af9-442f-81d7-0acb04259bdf button.colab-df-convert');\n",
              "      buttonEl.style.display =\n",
              "        google.colab.kernel.accessAllowed ? 'block' : 'none';\n",
              "\n",
              "      async function convertToInteractive(key) {\n",
              "        const element = document.querySelector('#df-35ab0f25-3af9-442f-81d7-0acb04259bdf');\n",
              "        const dataTable =\n",
              "          await google.colab.kernel.invokeFunction('convertToInteractive',\n",
              "                                                    [key], {});\n",
              "        if (!dataTable) return;\n",
              "\n",
              "        const docLinkHtml = 'Like what you see? Visit the ' +\n",
              "          '<a target=\"_blank\" href=https://colab.research.google.com/notebooks/data_table.ipynb>data table notebook</a>'\n",
              "          + ' to learn more about interactive tables.';\n",
              "        element.innerHTML = '';\n",
              "        dataTable['output_type'] = 'display_data';\n",
              "        await google.colab.output.renderOutput(dataTable, element);\n",
              "        const docLink = document.createElement('div');\n",
              "        docLink.innerHTML = docLinkHtml;\n",
              "        element.appendChild(docLink);\n",
              "      }\n",
              "    </script>\n",
              "  </div>\n",
              "\n",
              "\n",
              "    <div id=\"df-d16bd07a-18ed-48f5-8022-752905917405\">\n",
              "      <button class=\"colab-df-quickchart\" onclick=\"quickchart('df-d16bd07a-18ed-48f5-8022-752905917405')\"\n",
              "                title=\"Suggest charts\"\n",
              "                style=\"display:none;\">\n",
              "\n",
              "<svg xmlns=\"http://www.w3.org/2000/svg\" height=\"24px\"viewBox=\"0 0 24 24\"\n",
              "     width=\"24px\">\n",
              "    <g>\n",
              "        <path d=\"M19 3H5c-1.1 0-2 .9-2 2v14c0 1.1.9 2 2 2h14c1.1 0 2-.9 2-2V5c0-1.1-.9-2-2-2zM9 17H7v-7h2v7zm4 0h-2V7h2v10zm4 0h-2v-4h2v4z\"/>\n",
              "    </g>\n",
              "</svg>\n",
              "      </button>\n",
              "\n",
              "<style>\n",
              "  .colab-df-quickchart {\n",
              "      --bg-color: #E8F0FE;\n",
              "      --fill-color: #1967D2;\n",
              "      --hover-bg-color: #E2EBFA;\n",
              "      --hover-fill-color: #174EA6;\n",
              "      --disabled-fill-color: #AAA;\n",
              "      --disabled-bg-color: #DDD;\n",
              "  }\n",
              "\n",
              "  [theme=dark] .colab-df-quickchart {\n",
              "      --bg-color: #3B4455;\n",
              "      --fill-color: #D2E3FC;\n",
              "      --hover-bg-color: #434B5C;\n",
              "      --hover-fill-color: #FFFFFF;\n",
              "      --disabled-bg-color: #3B4455;\n",
              "      --disabled-fill-color: #666;\n",
              "  }\n",
              "\n",
              "  .colab-df-quickchart {\n",
              "    background-color: var(--bg-color);\n",
              "    border: none;\n",
              "    border-radius: 50%;\n",
              "    cursor: pointer;\n",
              "    display: none;\n",
              "    fill: var(--fill-color);\n",
              "    height: 32px;\n",
              "    padding: 0;\n",
              "    width: 32px;\n",
              "  }\n",
              "\n",
              "  .colab-df-quickchart:hover {\n",
              "    background-color: var(--hover-bg-color);\n",
              "    box-shadow: 0 1px 2px rgba(60, 64, 67, 0.3), 0 1px 3px 1px rgba(60, 64, 67, 0.15);\n",
              "    fill: var(--button-hover-fill-color);\n",
              "  }\n",
              "\n",
              "  .colab-df-quickchart-complete:disabled,\n",
              "  .colab-df-quickchart-complete:disabled:hover {\n",
              "    background-color: var(--disabled-bg-color);\n",
              "    fill: var(--disabled-fill-color);\n",
              "    box-shadow: none;\n",
              "  }\n",
              "\n",
              "  .colab-df-spinner {\n",
              "    border: 2px solid var(--fill-color);\n",
              "    border-color: transparent;\n",
              "    border-bottom-color: var(--fill-color);\n",
              "    animation:\n",
              "      spin 1s steps(1) infinite;\n",
              "  }\n",
              "\n",
              "  @keyframes spin {\n",
              "    0% {\n",
              "      border-color: transparent;\n",
              "      border-bottom-color: var(--fill-color);\n",
              "      border-left-color: var(--fill-color);\n",
              "    }\n",
              "    20% {\n",
              "      border-color: transparent;\n",
              "      border-left-color: var(--fill-color);\n",
              "      border-top-color: var(--fill-color);\n",
              "    }\n",
              "    30% {\n",
              "      border-color: transparent;\n",
              "      border-left-color: var(--fill-color);\n",
              "      border-top-color: var(--fill-color);\n",
              "      border-right-color: var(--fill-color);\n",
              "    }\n",
              "    40% {\n",
              "      border-color: transparent;\n",
              "      border-right-color: var(--fill-color);\n",
              "      border-top-color: var(--fill-color);\n",
              "    }\n",
              "    60% {\n",
              "      border-color: transparent;\n",
              "      border-right-color: var(--fill-color);\n",
              "    }\n",
              "    80% {\n",
              "      border-color: transparent;\n",
              "      border-right-color: var(--fill-color);\n",
              "      border-bottom-color: var(--fill-color);\n",
              "    }\n",
              "    90% {\n",
              "      border-color: transparent;\n",
              "      border-bottom-color: var(--fill-color);\n",
              "    }\n",
              "  }\n",
              "</style>\n",
              "\n",
              "      <script>\n",
              "        async function quickchart(key) {\n",
              "          const quickchartButtonEl =\n",
              "            document.querySelector('#' + key + ' button');\n",
              "          quickchartButtonEl.disabled = true;  // To prevent multiple clicks.\n",
              "          quickchartButtonEl.classList.add('colab-df-spinner');\n",
              "          try {\n",
              "            const charts = await google.colab.kernel.invokeFunction(\n",
              "                'suggestCharts', [key], {});\n",
              "          } catch (error) {\n",
              "            console.error('Error during call to suggestCharts:', error);\n",
              "          }\n",
              "          quickchartButtonEl.classList.remove('colab-df-spinner');\n",
              "          quickchartButtonEl.classList.add('colab-df-quickchart-complete');\n",
              "        }\n",
              "        (() => {\n",
              "          let quickchartButtonEl =\n",
              "            document.querySelector('#df-d16bd07a-18ed-48f5-8022-752905917405 button');\n",
              "          quickchartButtonEl.style.display =\n",
              "            google.colab.kernel.accessAllowed ? 'block' : 'none';\n",
              "        })();\n",
              "      </script>\n",
              "    </div>\n",
              "\n",
              "    </div>\n",
              "  </div>\n"
            ],
            "application/vnd.google.colaboratory.intrinsic+json": {
              "type": "dataframe",
              "variable_name": "df_merged"
            }
          },
          "metadata": {},
          "execution_count": 100
        }
      ]
    },
    {
      "cell_type": "markdown",
      "source": [
        "# ***Carga e Análise***"
      ],
      "metadata": {
        "id": "g3RHeUk4apQq"
      }
    },
    {
      "cell_type": "markdown",
      "source": [
        "**Verificando os tipos de arquivo**"
      ],
      "metadata": {
        "id": "mWS0mj5k1reW"
      }
    },
    {
      "cell_type": "code",
      "source": [
        "df_merged.dtypes"
      ],
      "metadata": {
        "colab": {
          "base_uri": "https://localhost:8080/",
          "height": 742
        },
        "id": "6epkOd1gHNyZ",
        "outputId": "224cb303-0d2a-49c1-919c-3e9dfa603829"
      },
      "execution_count": 66,
      "outputs": [
        {
          "output_type": "execute_result",
          "data": {
            "text/plain": [
              "customerID           object\n",
              "Churn                  bool\n",
              "gender               object\n",
              "SeniorCitizen          bool\n",
              "Partner                bool\n",
              "Dependents             bool\n",
              "tenure                int64\n",
              "PhoneService           bool\n",
              "MultipleLines          bool\n",
              "InternetService      object\n",
              "OnlineSecurity         bool\n",
              "OnlineBackup           bool\n",
              "DeviceProtection       bool\n",
              "TechSupport            bool\n",
              "StreamingTV            bool\n",
              "StreamingMovies        bool\n",
              "Contract             object\n",
              "PaperlessBilling       bool\n",
              "PaymentMethod        object\n",
              "Monthly             float64\n",
              "Total               float64\n",
              "dtype: object"
            ],
            "text/html": [
              "<div>\n",
              "<style scoped>\n",
              "    .dataframe tbody tr th:only-of-type {\n",
              "        vertical-align: middle;\n",
              "    }\n",
              "\n",
              "    .dataframe tbody tr th {\n",
              "        vertical-align: top;\n",
              "    }\n",
              "\n",
              "    .dataframe thead th {\n",
              "        text-align: right;\n",
              "    }\n",
              "</style>\n",
              "<table border=\"1\" class=\"dataframe\">\n",
              "  <thead>\n",
              "    <tr style=\"text-align: right;\">\n",
              "      <th></th>\n",
              "      <th>0</th>\n",
              "    </tr>\n",
              "  </thead>\n",
              "  <tbody>\n",
              "    <tr>\n",
              "      <th>customerID</th>\n",
              "      <td>object</td>\n",
              "    </tr>\n",
              "    <tr>\n",
              "      <th>Churn</th>\n",
              "      <td>bool</td>\n",
              "    </tr>\n",
              "    <tr>\n",
              "      <th>gender</th>\n",
              "      <td>object</td>\n",
              "    </tr>\n",
              "    <tr>\n",
              "      <th>SeniorCitizen</th>\n",
              "      <td>bool</td>\n",
              "    </tr>\n",
              "    <tr>\n",
              "      <th>Partner</th>\n",
              "      <td>bool</td>\n",
              "    </tr>\n",
              "    <tr>\n",
              "      <th>Dependents</th>\n",
              "      <td>bool</td>\n",
              "    </tr>\n",
              "    <tr>\n",
              "      <th>tenure</th>\n",
              "      <td>int64</td>\n",
              "    </tr>\n",
              "    <tr>\n",
              "      <th>PhoneService</th>\n",
              "      <td>bool</td>\n",
              "    </tr>\n",
              "    <tr>\n",
              "      <th>MultipleLines</th>\n",
              "      <td>bool</td>\n",
              "    </tr>\n",
              "    <tr>\n",
              "      <th>InternetService</th>\n",
              "      <td>object</td>\n",
              "    </tr>\n",
              "    <tr>\n",
              "      <th>OnlineSecurity</th>\n",
              "      <td>bool</td>\n",
              "    </tr>\n",
              "    <tr>\n",
              "      <th>OnlineBackup</th>\n",
              "      <td>bool</td>\n",
              "    </tr>\n",
              "    <tr>\n",
              "      <th>DeviceProtection</th>\n",
              "      <td>bool</td>\n",
              "    </tr>\n",
              "    <tr>\n",
              "      <th>TechSupport</th>\n",
              "      <td>bool</td>\n",
              "    </tr>\n",
              "    <tr>\n",
              "      <th>StreamingTV</th>\n",
              "      <td>bool</td>\n",
              "    </tr>\n",
              "    <tr>\n",
              "      <th>StreamingMovies</th>\n",
              "      <td>bool</td>\n",
              "    </tr>\n",
              "    <tr>\n",
              "      <th>Contract</th>\n",
              "      <td>object</td>\n",
              "    </tr>\n",
              "    <tr>\n",
              "      <th>PaperlessBilling</th>\n",
              "      <td>bool</td>\n",
              "    </tr>\n",
              "    <tr>\n",
              "      <th>PaymentMethod</th>\n",
              "      <td>object</td>\n",
              "    </tr>\n",
              "    <tr>\n",
              "      <th>Monthly</th>\n",
              "      <td>float64</td>\n",
              "    </tr>\n",
              "    <tr>\n",
              "      <th>Total</th>\n",
              "      <td>float64</td>\n",
              "    </tr>\n",
              "  </tbody>\n",
              "</table>\n",
              "</div><br><label><b>dtype:</b> object</label>"
            ]
          },
          "metadata": {},
          "execution_count": 66
        }
      ]
    },
    {
      "cell_type": "markdown",
      "source": [
        "**Calculando o número Churn**"
      ],
      "metadata": {
        "id": "9vDrwXAVS4St"
      }
    },
    {
      "cell_type": "code",
      "source": [
        "numero_churn = df_merged['Churn'].sum()\n",
        "\n",
        "print(f\"O número total de clientes com Churn é: {numero_churn}\")"
      ],
      "metadata": {
        "colab": {
          "base_uri": "https://localhost:8080/"
        },
        "id": "-fE_mcTwTf2V",
        "outputId": "72098d8a-ad55-40fe-d604-68c10fb23e06"
      },
      "execution_count": 67,
      "outputs": [
        {
          "output_type": "stream",
          "name": "stdout",
          "text": [
            "O número total de clientes com Churn é: 1869\n"
          ]
        }
      ]
    },
    {
      "cell_type": "markdown",
      "source": [
        "**Verificando a percentagem de Churn em relação ao número total de contratos**"
      ],
      "metadata": {
        "id": "G38VPVXonFiG"
      }
    },
    {
      "cell_type": "code",
      "source": [
        "total_contratos = df_merged.shape[0]\n",
        "percentagem_churn = (numero_churn / total_contratos) * 100\n",
        "\n",
        "print(f\"A percentagem de clientes com Churn em relação ao total de contratos é: {percentagem_churn:.2f}%\")"
      ],
      "metadata": {
        "colab": {
          "base_uri": "https://localhost:8080/"
        },
        "id": "IXzVgzAGI42J",
        "outputId": "b2b1c345-e07e-4caf-a0d9-4edcc45f8af0"
      },
      "execution_count": 68,
      "outputs": [
        {
          "output_type": "stream",
          "name": "stdout",
          "text": [
            "A percentagem de clientes com Churn em relação ao total de contratos é: 26.54%\n"
          ]
        }
      ]
    },
    {
      "cell_type": "markdown",
      "source": [
        "**Feito uma Relação entre o Churn e as outras variáveis booleanas**"
      ],
      "metadata": {
        "id": "nYtCbqSvDNHK"
      }
    },
    {
      "cell_type": "code",
      "source": [
        "boolean_columns = [\n",
        "    'SeniorCitizen', 'Partner', 'Dependents', 'PhoneService',\n",
        "    'MultipleLines', 'InternetService', 'OnlineSecurity', 'OnlineBackup',\n",
        "    'DeviceProtection', 'TechSupport', 'StreamingTV', 'StreamingMovies',\n",
        "    'PaperlessBilling'\n",
        "]\n",
        "\n",
        "churn_true_df = df_merged[df_merged['Churn'] == True]\n",
        "\n",
        "percentages = {}\n",
        "\n",
        "for col in boolean_columns:\n",
        "    if col in churn_true_df.columns:\n",
        "        # Handling the 'InternetService' column which is not boolean after merge\n",
        "        if col == 'InternetService':\n",
        "            # Calculate percentage of each internet service type among churned customers\n",
        "            internet_service_churn_counts = churn_true_df[col].value_counts()\n",
        "            total_churn_customers = len(churn_true_df)\n",
        "            if total_churn_customers > 0:\n",
        "                for service, count in internet_service_churn_counts.items():\n",
        "                    percentages[f'{col}_{service}'] = (count / total_churn_customers) * 100\n",
        "            else:\n",
        "                percentages[f'{col}'] = 0\n",
        "        else:\n",
        "            # Calculate percentage of True values for boolean columns among churned customers\n",
        "            true_count = churn_true_df[col].sum()\n",
        "            total_churn_customers = len(churn_true_df)\n",
        "            if total_churn_customers > 0:\n",
        "                percentages[col] = (true_count / total_churn_customers) * 100\n",
        "            else:\n",
        "                percentages[col] = 0\n",
        "\n",
        "\n",
        "# Sort percentages from highest to lowest\n",
        "sorted_percentages = sorted(percentages.items(), key=lambda item: item[1], reverse=True)\n",
        "\n",
        "# Print the sorted percentages\n",
        "print(\"Percentagem de Churn (True) em relação a outras colunas (True), ordenado do maior para o menor:\")\n",
        "for col, percentage in sorted_percentages:\n",
        "    print(f\"{col}: {percentage:.2f}%\")"
      ],
      "metadata": {
        "colab": {
          "base_uri": "https://localhost:8080/"
        },
        "id": "GXAiMSBfNu_5",
        "outputId": "fa1869a5-0379-43a1-c0ae-562cc505d599"
      },
      "execution_count": 69,
      "outputs": [
        {
          "output_type": "stream",
          "name": "stdout",
          "text": [
            "Percentagem de Churn (True) em relação a outras colunas (True), ordenado do maior para o menor:\n",
            "PhoneService: 90.90%\n",
            "PaperlessBilling: 74.91%\n",
            "InternetService_Fiber optic: 69.40%\n",
            "MultipleLines: 45.48%\n",
            "StreamingMovies: 43.77%\n",
            "StreamingTV: 43.55%\n",
            "Partner: 35.79%\n",
            "DeviceProtection: 29.16%\n",
            "OnlineBackup: 27.98%\n",
            "SeniorCitizen: 25.47%\n",
            "InternetService_DSL: 24.56%\n",
            "Dependents: 17.44%\n",
            "TechSupport: 16.59%\n",
            "OnlineSecurity: 15.78%\n",
            "InternetService_No: 6.05%\n"
          ]
        }
      ]
    },
    {
      "cell_type": "markdown",
      "source": [
        "**Feito um Gráfico da relação entre o Churn e Phone Service**"
      ],
      "metadata": {
        "id": "zZm4vkSODol4"
      }
    },
    {
      "cell_type": "code",
      "source": [
        "import matplotlib.pyplot as plt\n",
        "import seaborn as sns\n",
        "\n",
        "# Filter the DataFrame for Churn=True and PhoneService=True\n",
        "filtered_df = df_merged[(df_merged['Churn'] == True) & (df_merged['PhoneService'] == True)]\n",
        "\n",
        "# Count the occurrences of True for these conditions\n",
        "count_true = len(filtered_df)\n",
        "# Count the occurrences of False for these conditions (Churn=True and PhoneService=True is not the case)\n",
        "# We are interested in the proportion within the group where Churn is True\n",
        "# Let's check the proportion of PhoneService=True among Churn=True customers\n",
        "churn_true_df = df_merged[df_merged['Churn'] == True]\n",
        "phone_service_churn_true_count = churn_true_df['PhoneService'].sum() # Count where PhoneService is True in the churned group\n",
        "phone_service_churn_false_count = len(churn_true_df) - phone_service_churn_true_count # Count where PhoneService is False in the churned group\n",
        "\n",
        "# Create data for the pie chart\n",
        "labels = ['Phone Service = True (Churn=True)', 'Phone Service = False (Churn=True)']\n",
        "sizes = [phone_service_churn_true_count, phone_service_churn_false_count]\n",
        "colors = ['skyblue', 'lightcoral']\n",
        "explode = (0.1, 0)  # explode the first slice (Phone Service = True)\n",
        "\n",
        "# Create the pie chart\n",
        "plt.figure(figsize=(8, 8))\n",
        "plt.pie(sizes, explode=explode, labels=labels, colors=colors, autopct='%1.1f%%', shadow=True, startangle=140)\n",
        "plt.title('Proporção entre Phone Service e Clientes Churned')\n",
        "plt.axis('equal')  # Equal aspect ratio ensures that pie is drawn as a circle.\n",
        "\n",
        "plt.show()"
      ],
      "metadata": {
        "colab": {
          "base_uri": "https://localhost:8080/",
          "height": 675
        },
        "id": "nDFZJT2zumfE",
        "outputId": "78e41247-ad9c-431c-fc14-c5442bca0544"
      },
      "execution_count": 72,
      "outputs": [
        {
          "output_type": "display_data",
          "data": {
            "text/plain": [
              "<Figure size 800x800 with 1 Axes>"
            ],
            "image/png": "[encoded data removed]"
          },
          "metadata": {}
        }
      ]
    },
    {
      "cell_type": "markdown",
      "source": [
        "**90,9% dos cancelamentos são de clientes com serviço de telefonia**"
      ],
      "metadata": {
        "id": "GU9WRoDwvEEd"
      }
    },
    {
      "cell_type": "markdown",
      "source": [
        "**Feito um Gráfico da relação entre o Churn e PaperlessBilling = True, ou seja que recebem conta sem papel, online por exemplo**"
      ],
      "metadata": {
        "id": "oyTKV7w4EZOp"
      }
    },
    {
      "cell_type": "code",
      "source": [
        "# Filter the DataFrame for Churn=True and PaperlessBilling=True\n",
        "filtered_df_paperless = df_merged[(df_merged['Churn'] == True) & (df_merged['PaperlessBilling'] == True)]\n",
        "\n",
        "# Count the occurrences of True for these conditions\n",
        "count_paperless_true = len(filtered_df_paperless)\n",
        "\n",
        "# Filter the DataFrame for Churn=True and PaperlessBilling=False\n",
        "filtered_df_paperless_false = df_merged[(df_merged['Churn'] == True) & (df_merged['PaperlessBilling'] == False)]\n",
        "\n",
        "# Count the occurrences of False for these conditions\n",
        "count_paperless_false = len(filtered_df_paperless_false)\n",
        "\n",
        "\n",
        "# Create data for the pie chart\n",
        "labels_paperless = ['PaperlessBilling = True (Churn=True)', 'PaperlessBilling = False (Churn=True)']\n",
        "sizes_paperless = [count_paperless_true, count_paperless_false]\n",
        "colors_paperless = ['lightgreen', 'salmon']\n",
        "explode_paperless = (0.1, 0)  # explode the first slice (PaperlessBilling = True)\n",
        "\n",
        "# Create the pie chart\n",
        "plt.figure(figsize=(8, 8))\n",
        "plt.pie(sizes_paperless, explode=explode_paperless, labels=labels_paperless, colors=colors_paperless, autopct='%1.1f%%', shadow=True, startangle=140)\n",
        "plt.title('Proporção entre Paperless Billing e Clientes Churned')\n",
        "plt.axis('equal')  # Equal aspect ratio ensures that pie is drawn as a circle.\n",
        "\n",
        "plt.show()\n",
        "\n",
        "# Calculate the percentage\n",
        "percentage_paperless_true = (count_paperless_true / (count_paperless_true + count_paperless_false)) * 100\n",
        "print(f\"{percentage_paperless_true:.2f}% dos cancelamentos são de clientes com Paperless Billing = True\")"
      ],
      "metadata": {
        "colab": {
          "base_uri": "https://localhost:8080/",
          "height": 697
        },
        "id": "B5QCxDaevUgk",
        "outputId": "6f60d534-8dcd-4fec-cdd2-b17514d39366"
      },
      "execution_count": 73,
      "outputs": [
        {
          "output_type": "display_data",
          "data": {
            "text/plain": [
              "<Figure size 800x800 with 1 Axes>"
            ],
            "image/png": "[encoded data removed]"
          },
          "metadata": {}
        },
        {
          "output_type": "stream",
          "name": "stdout",
          "text": [
            "74.91% dos cancelamentos são de clientes com Paperless Billing = True\n"
          ]
        }
      ]
    },
    {
      "cell_type": "markdown",
      "source": [
        "# ***Relatório Final***"
      ],
      "metadata": {
        "id": "Wu14PQwDce_5"
      }
    },
    {
      "cell_type": "markdown",
      "source": [
        "# 📊 TELECOM\\_X — Análise de Evasão de Clientes (Churn)\n",
        "\n",
        "## 🧭 Introdução\n",
        "\n",
        "A presente análise foi conduzida com o objetivo de compreender os fatores associados à evasão de clientes (churn) na empresa fictícia **Telecom\\_X**. A evasão de clientes representa um desafio crítico para empresas de telecomunicações, afetando diretamente a receita e a sustentabilidade do negócio.\n",
        "\n",
        "A análise segue todo o processo de **ETL (Extração, Transformação e Carga)**, incluindo a exploração dos dados, limpeza, visualização e extração de insights úteis para auxiliar a empresa na **redução da taxa de cancelamentos**.\n",
        "\n",
        "---\n",
        "\n",
        "## 🧼 Limpeza e Tratamento de Dados\n",
        "\n",
        "### 🔍 Extração\n",
        "\n",
        "* Importação do banco de dados contendo os contratos de clientes da Telecom\\_X.\n",
        "* Visualização e inspeção do DataFrame inicial.\n",
        "\n",
        "### 🔄 Transformação\n",
        "\n",
        "* Conversão dos dicionários das colunas `customer`, `phone`, `internet`, `account` e `account[charges]` em DataFrames separados.\n",
        "* Conversão das colunas `monthly` e `Total` para o tipo `float64`.\n",
        "* Merge dos DataFrames em um único conjunto consolidado (`df_merged`).\n",
        "* Padronização de dados booleanos (ex: \"Yes\"/\"No\" para `True`/`False`).\n",
        "* Correção de dados ausentes e inconsistências:\n",
        "\n",
        "  * Remoção de 224 linhas da coluna `Churn` que estavam vazias ou com espaços.\n",
        "  * Substituição dos valores como `\"No phone service\"` e `\"No internet service\"` para `False` nas colunas relacionadas.\n",
        "* Verificação final de tipos de dados e consistência.\n",
        "* Conversão final da coluna `Churn` para o tipo booleano.\n",
        "* Dados aprovados e prontos para análise.\n",
        "\n",
        "---\n",
        "\n",
        "## 📊 Análise Exploratória de Dados (EDA)\n",
        "\n",
        "### 🔢 Percentual de Evasão\n",
        "\n",
        "* **26,54%** dos clientes da base analisada cancelaram seus contratos.\n",
        "\n",
        "### 📈 Visualizações e Relações\n",
        "\n",
        "* Gráfico de dispersão entre `Churn` e `Phone Service` revelou que **90,9% dos cancelamentos** ocorreram entre clientes com serviço de telefonia ativo.\n",
        "* Gráfico de comparação entre `Churn` e `PaperlessBilling = True` mostrou que **74,91% dos clientes que cancelaram** optavam por receber contas digitalmente (sem papel).\n",
        "\n",
        "Esses padrões sugerem que a presença de certos serviços e formatos de cobrança estão fortemente correlacionados com o comportamento de evasão.\n",
        "\n",
        "---\n",
        "\n",
        "## 💡 Conclusões e Insights\n",
        "\n",
        "* A taxa de churn está consideravelmente alta (mais de 1 em cada 4 clientes).\n",
        "* Clientes com **serviço de telefonia ativo** têm maior probabilidade de cancelar.\n",
        "* A preferência por **faturamento sem papel (Paperless Billing)** está fortemente associada ao churn, podendo indicar menor engajamento ou dificuldade de comunicação.\n",
        "\n",
        "---\n",
        "\n",
        "## ✅ Recomendações\n",
        "\n",
        "1. **Revisar a experiência de clientes com serviços telefônicos**, especialmente em relação à qualidade e suporte técnico.\n",
        "2. **Avaliar a clareza e acessibilidade das faturas digitais**, buscando entender se há falhas na comunicação com clientes que optam por este formato.\n",
        "3. **Implementar ações de retenção direcionadas** a clientes que utilizam serviços com alta correlação ao churn.\n",
        "4. **Realizar campanhas de fidelização** para clientes com Paperless Billing, como notificações personalizadas ou programas de pontos.\n",
        "5. Continuar o **monitoramento periódico** do churn, buscando antecipar padrões de comportamento e agir proativamente.\n",
        "\n",
        "---\n"
      ],
      "metadata": {
        "id": "ueR0uoXsFjl5"
      }
    },
    {
      "cell_type": "code",
      "source": [],
      "metadata": {
        "id": "y9YiJO8tKuiW"
      },
      "execution_count": null,
      "outputs": []
    }
  ]
}