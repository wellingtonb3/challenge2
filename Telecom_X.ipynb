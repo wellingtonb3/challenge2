{
  "nbformat": 4,
  "nbformat_minor": 0,
  "metadata": {
    "colab": {
      "provenance": []
    },
    "kernelspec": {
      "name": "python3",
      "display_name": "Python 3"
    },
    "language_info": {
      "name": "python"
    }
  },
  "cells": [
    {
      "cell_type": "markdown",
      "source": [
        "# **TELECOM_X**"
      ],
      "metadata": {
        "id": "gqiipGUha4yD"
      }
    },
    {
      "cell_type": "markdown",
      "source": [
        "**Extraindo dados**"
      ],
      "metadata": {
        "id": "J0VjMFIObADp"
      }
    },
    {
      "cell_type": "code",
      "execution_count": null,
      "metadata": {
        "id": "AcA0gmNBWzXu"
      },
      "outputs": [],
      "source": []
    },
    {
      "cell_type": "markdown",
      "source": [
        "**Transformando**"
      ],
      "metadata": {
        "id": "Fh56isMwa7Nh"
      }
    },
    {
      "cell_type": "code",
      "source": [],
      "metadata": {
        "id": "v69ehLjha7sB"
      },
      "execution_count": null,
      "outputs": []
    },
    {
      "cell_type": "markdown",
      "source": [
        "**Carregando e Analisando**"
      ],
      "metadata": {
        "id": "EXvQbbXha9nR"
      }
    },
    {
      "cell_type": "code",
      "source": [],
      "metadata": {
        "id": "jh4e5A_Xa95Z"
      },
      "execution_count": null,
      "outputs": []
    },
    {
      "cell_type": "markdown",
      "source": [
        "**Relatório Final**"
      ],
      "metadata": {
        "id": "uyK33l8Na-YJ"
      }
    },
    {
      "cell_type": "code",
      "source": [],
      "metadata": {
        "id": "LcrDBLQwa-pZ"
      },
      "execution_count": null,
      "outputs": []
    }
  ]
}